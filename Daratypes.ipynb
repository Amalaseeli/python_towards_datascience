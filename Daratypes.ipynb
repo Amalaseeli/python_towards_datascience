{
 "cells": [
  {
   "cell_type": "markdown",
   "id": "f68dc21d-fac7-4f31-b6bb-3a5b37ea0c92",
   "metadata": {},
   "source": [
    "# Basic Of Python\n"
   ]
  },
  {
   "cell_type": "markdown",
   "id": "5194ecd5-fb94-4cce-81c7-72a7a72e4aac",
   "metadata": {},
   "source": [
    "## Data types\n",
    "#### Naming rules\n",
    "1. Case sensitive\n",
    "2. Must start with a letter or underscore\n",
    "3. No space allowed\n",
    "4. No keywords allowed\n",
    "\n",
    "    - int\n",
    "    - string  \n",
    "    - float\n",
    "    - Boolean\n",
    "    - list\n",
    "    - tuple\n",
    "    - sets\n",
    "    - dictionaries\n"
   ]
  },
  {
   "cell_type": "code",
   "execution_count": null,
   "id": "fa3819bb-9d9a-4272-8ed4-080b7ec4c527",
   "metadata": {},
   "outputs": [],
   "source": [
    "### int"
   ]
  },
  {
   "cell_type": "markdown",
   "id": "98a303eb-c323-4eda-a32a-f7a7a6c834d1",
   "metadata": {},
   "source": [
    "x=3\n"
   ]
  },
  {
   "cell_type": "code",
   "execution_count": 2,
   "id": "181c3078-d6b6-4a3b-96b2-228332393176",
   "metadata": {},
   "outputs": [
    {
     "name": "stdout",
     "output_type": "stream",
     "text": [
      "3\n"
     ]
    }
   ],
   "source": [
    "print(x)\n"
   ]
  },
  {
   "cell_type": "code",
   "execution_count": 3,
   "id": "561e5e7d-78df-4ccb-a008-476e72657969",
   "metadata": {},
   "outputs": [
    {
     "data": {
      "text/plain": [
       "int"
      ]
     },
     "execution_count": 3,
     "metadata": {},
     "output_type": "execute_result"
    }
   ],
   "source": [
    "type(x)"
   ]
  },
  {
   "cell_type": "markdown",
   "id": "bd26cd3e-3428-40e8-935a-bfa0a741386b",
   "metadata": {},
   "source": [
    "### str"
   ]
  },
  {
   "cell_type": "code",
   "execution_count": 5,
   "id": "0d45100f-f8ce-45f1-bfe3-2a3b3760a8e9",
   "metadata": {},
   "outputs": [
    {
     "data": {
      "text/plain": [
       "str"
      ]
     },
     "execution_count": 5,
     "metadata": {},
     "output_type": "execute_result"
    }
   ],
   "source": [
    "type('Amala')"
   ]
  },
  {
   "cell_type": "markdown",
   "id": "b774560b-e016-4778-bf49-b2081253af99",
   "metadata": {},
   "source": [
    "#### Print formatting"
   ]
  },
  {
   "cell_type": "code",
   "execution_count": 22,
   "id": "7adb1ee1-69db-4a2e-9824-9072b46069fe",
   "metadata": {},
   "outputs": [],
   "source": [
    "First_name = \"Amalaseeli\"\n",
    "Last_name = \"Remiyan\"\n"
   ]
  },
  {
   "cell_type": "code",
   "execution_count": 23,
   "id": "bcda0437-8af7-472d-8856-67e1e59f511c",
   "metadata": {},
   "outputs": [
    {
     "name": "stdout",
     "output_type": "stream",
     "text": [
      "The firstname is Amalaseeli and lastname is Remiyan\n"
     ]
    }
   ],
   "source": [
    "print(f'The firstname is {First_name} and lastname is {Last_name}')\n"
   ]
  },
  {
   "cell_type": "code",
   "execution_count": 24,
   "id": "b9986fc3-3b5b-4198-a8f5-f544419d9716",
   "metadata": {},
   "outputs": [
    {
     "name": "stdout",
     "output_type": "stream",
     "text": [
      "The first name is Amalaseeli and lastname isRemiyan\n"
     ]
    }
   ],
   "source": [
    "print(\"The first name is {} and lastname is{}\".format(First_name,Last_name))"
   ]
  },
  {
   "cell_type": "markdown",
   "id": "54a92482-a096-4b7e-9da0-3fe96cffcffa",
   "metadata": {},
   "source": [
    "#### Examples of string inbuilt functions"
   ]
  },
  {
   "cell_type": "code",
   "execution_count": 25,
   "id": "8cc07354-befe-4499-a8dc-c108d166cc42",
   "metadata": {},
   "outputs": [],
   "source": [
    "my_str=\"Hello world\""
   ]
  },
  {
   "cell_type": "code",
   "execution_count": 26,
   "id": "ef72c930-54f1-4a34-ae06-25c71bf7b216",
   "metadata": {},
   "outputs": [
    {
     "name": "stdout",
     "output_type": "stream",
     "text": [
      "False\n",
      "False\n",
      "False\n",
      "False\n"
     ]
    }
   ],
   "source": [
    "print(my_str.isalpha()) ##Check all the charater of string is alphabetical\n",
    "print(my_str.isalnum()) ###check if all characters are numbers\n",
    "print(my_str.isdigit()) #Check string contains digits\n",
    "print(my_str.isupper()) #Check if string contains upper characters\n",
    "      "
   ]
  },
  {
   "cell_type": "markdown",
   "id": "bc009688-c64c-43c3-8224-d8e3f3dd9df5",
   "metadata": {},
   "source": [
    "### Float"
   ]
  },
  {
   "cell_type": "code",
   "execution_count": 27,
   "id": "53c4a760-df51-412c-8909-c6ee4b835f37",
   "metadata": {},
   "outputs": [],
   "source": [
    "num=0.003"
   ]
  },
  {
   "cell_type": "code",
   "execution_count": 28,
   "id": "b170ad71-827c-4b9b-9e31-e7d311f48269",
   "metadata": {},
   "outputs": [
    {
     "data": {
      "text/plain": [
       "float"
      ]
     },
     "execution_count": 28,
     "metadata": {},
     "output_type": "execute_result"
    }
   ],
   "source": [
    "type(num)"
   ]
  },
  {
   "cell_type": "markdown",
   "id": "d03dc494-1398-4e6d-9719-b168035f54f2",
   "metadata": {},
   "source": [
    "### Boolean"
   ]
  },
  {
   "cell_type": "code",
   "execution_count": 29,
   "id": "4d2e1788-e073-4fba-9b25-912bac3bcfd7",
   "metadata": {},
   "outputs": [
    {
     "data": {
      "text/plain": [
       "False"
      ]
     },
     "execution_count": 29,
     "metadata": {},
     "output_type": "execute_result"
    }
   ],
   "source": [
    "bool()"
   ]
  },
  {
   "cell_type": "code",
   "execution_count": 30,
   "id": "00301074-6755-4cc8-85b0-c5be816256af",
   "metadata": {},
   "outputs": [
    {
     "data": {
      "text/plain": [
       "True"
      ]
     },
     "execution_count": 30,
     "metadata": {},
     "output_type": "execute_result"
    }
   ],
   "source": [
    "bool(1)"
   ]
  },
  {
   "cell_type": "code",
   "execution_count": 1,
   "id": "290808ac-1a96-49d3-b803-41539cae77d6",
   "metadata": {},
   "outputs": [
    {
     "name": "stdout",
     "output_type": "stream",
     "text": [
      "True\n",
      "False\n"
     ]
    }
   ],
   "source": [
    " #If it is not empty, it will return True, otherwise it will return False\n",
    "my_str = 'Hello'\n",
    "print(bool(my_str))\n",
    "empty_str = ''\n",
    "print(bool(empty_str))"
   ]
  },
  {
   "cell_type": "markdown",
   "id": "b7715f28-8922-494b-b40d-c20913e4dbec",
   "metadata": {},
   "source": [
    "### Boolean operations\n",
    "- **and** : Returns True if both operands are True\n",
    "- **or** : Returns True if either operand is True\n",
    "- **not** : Returns the opposite boolean value of the operand\r",
    " nd"
   ]
  },
  {
   "cell_type": "code",
   "execution_count": 2,
   "id": "f875fc34-ed5c-455f-976c-1b0167ae0400",
   "metadata": {},
   "outputs": [
    {
     "name": "stdout",
     "output_type": "stream",
     "text": [
      "False\n",
      "True\n",
      "False\n"
     ]
    }
   ],
   "source": [
    "x = True\n",
    "y = False\n",
    "\n",
    "print(x and y)  # Output: False\n",
    "print(x or y)   # Output: True\n",
    "print(not x) "
   ]
  },
  {
   "cell_type": "markdown",
   "id": "33b852f8-10c5-47f7-b7f8-d4779fb49906",
   "metadata": {},
   "source": [
    "### in operator\n",
    "The in operator is used to check if a value is present in a sequence, such as a string, list, or tuple. It returns True if the value is found in the sequence, and False otherwise."
   ]
  },
  {
   "cell_type": "code",
   "execution_count": 3,
   "id": "1fea0bbf-9644-4a17-bc04-15f0980183da",
   "metadata": {},
   "outputs": [
    {
     "name": "stdout",
     "output_type": "stream",
     "text": [
      "True\n",
      "False\n"
     ]
    }
   ],
   "source": [
    "message=\"Hello, world!\"\n",
    "print(\"world\" in message)\n",
    "print(\"Python\" in message)\n"
   ]
  },
  {
   "cell_type": "markdown",
   "id": "273500e1-cd28-4682-a1c5-afb66bb77c9b",
   "metadata": {},
   "source": [
    "### Comparision operators\n",
    "- `==` (equal to): Checks if two values are equal\r\n",
    "- `!=` (not equal to): Checks if two values are not equal\r\n",
    "- `<` (less than): Checks if the left value is less than the right value\r\n",
    "- `>` (greater than): Checks if the left value is greater than the right value\r\n",
    "- `<=` (less than or equal to): Checks if the left value is less than or equal to the right value\r\n",
    "- `>=` (greater than or equal to): Checks if the left value is greater than or equal to the right valuevalue"
   ]
  },
  {
   "cell_type": "code",
   "execution_count": 4,
   "id": "b49398eb-7252-4f35-9484-4d0930da7643",
   "metadata": {},
   "outputs": [
    {
     "name": "stdout",
     "output_type": "stream",
     "text": [
      "False\n",
      "True\n",
      "True\n"
     ]
    }
   ],
   "source": [
    "x = 5\n",
    "y = 10\n",
    "\n",
    "print(x == y)   # Output: False\n",
    "print(x != y)   # Output: True\n",
    "print(x < y) "
   ]
  },
  {
   "cell_type": "code",
   "execution_count": null,
   "id": "d55e0550-f204-451f-ab32-ab5245914f01",
   "metadata": {},
   "outputs": [],
   "source": []
  },
  {
   "cell_type": "markdown",
   "id": "29f06c20-6ba3-4214-856d-a6f6a5503fe2",
   "metadata": {},
   "source": [
    "### Lists"
   ]
  },
  {
   "cell_type": "markdown",
   "id": "0eb21d2d-b13d-46d4-a48b-0206c386f575",
   "metadata": {},
   "source": [
    "- Mutable\n",
    "- Changeable\n",
    "- Contains an ordered sequence of elements\n",
    "- Defined by having values between square brackets."
   ]
  },
  {
   "cell_type": "code",
   "execution_count": 1,
   "id": "2c9cf7dc-279b-46b8-8f6f-1a99311e0ef6",
   "metadata": {},
   "outputs": [],
   "source": [
    "my_list=[]"
   ]
  },
  {
   "cell_type": "code",
   "execution_count": 2,
   "id": "155fdd37-ab83-43ca-ac2e-2ef9316da01b",
   "metadata": {},
   "outputs": [
    {
     "data": {
      "text/plain": [
       "list"
      ]
     },
     "execution_count": 2,
     "metadata": {},
     "output_type": "execute_result"
    }
   ],
   "source": [
    "type(my_list)"
   ]
  },
  {
   "cell_type": "code",
   "execution_count": 3,
   "id": "ad39f827-23ce-4d57-b595-2c43ed44c563",
   "metadata": {},
   "outputs": [],
   "source": [
    "my_list=[\"Apple\",\"oranges\"]"
   ]
  },
  {
   "cell_type": "code",
   "execution_count": 4,
   "id": "ad0dce7a-6b1e-44a3-8f7b-73c078f9e3a0",
   "metadata": {},
   "outputs": [
    {
     "data": {
      "text/plain": [
       "['Apple', 'oranges']"
      ]
     },
     "execution_count": 4,
     "metadata": {},
     "output_type": "execute_result"
    }
   ],
   "source": [
    "my_list\n"
   ]
  },
  {
   "cell_type": "markdown",
   "id": "df00892a-f034-46ff-9ed4-2bc4b41d8f00",
   "metadata": {},
   "source": [
    "## In built method of Lists\n",
    "* append: Add an item to the end of the list   \n",
    "* remove: Fremove the first occurrence of a specified item from the list\n",
    "* extend: Add multiple items on the list\n",
    "* pop: remove and return the last element from the list\n",
    "     - pop([i]): Return the item at the given index and remove that item\n",
    "* insert: Insert an element in a specific index\n",
    "* Sort: sorts the items in the list in ascending order\n",
    "* clear: Remove all the items in the list\n",
    "* Index: returns the position of the first occurrence of a specific value\n",
    "* count: return number of the occurrence of a given element in a list\n",
    "* Reverse: Reverse the order of the items in a list\n",
    "* copy: Copy the whole list\n"
   ]
  },
  {
   "cell_type": "code",
   "execution_count": 52,
   "id": "fc844781-4905-4df1-8e9f-455a1e675552",
   "metadata": {},
   "outputs": [],
   "source": [
    "my_list.append('Kiwi')"
   ]
  },
  {
   "cell_type": "code",
   "execution_count": 53,
   "id": "7acb6823-a954-42e5-b42b-a90d0de4cdce",
   "metadata": {},
   "outputs": [
    {
     "data": {
      "text/plain": [
       "['Kiwi', 'Apple', 'Blueberry', 'Kiwi']"
      ]
     },
     "execution_count": 53,
     "metadata": {},
     "output_type": "execute_result"
    }
   ],
   "source": [
    "my_list"
   ]
  },
  {
   "cell_type": "code",
   "execution_count": 54,
   "id": "066b114f-e900-4da8-829a-5305b64538d6",
   "metadata": {},
   "outputs": [],
   "source": [
    "my_list.append(['Grapes','Banana'])"
   ]
  },
  {
   "cell_type": "code",
   "execution_count": 55,
   "id": "1e8e7d12-887d-4e19-bf15-495f62e2d2ef",
   "metadata": {},
   "outputs": [
    {
     "data": {
      "text/plain": [
       "['Kiwi', 'Apple', 'Blueberry', 'Kiwi', ['Grapes', 'Banana']]"
      ]
     },
     "execution_count": 55,
     "metadata": {},
     "output_type": "execute_result"
    }
   ],
   "source": [
    "my_list"
   ]
  },
  {
   "cell_type": "code",
   "execution_count": 56,
   "id": "1a3a082d-95a5-4514-b6bb-d3d270cbbaf5",
   "metadata": {},
   "outputs": [
    {
     "data": {
      "text/plain": [
       "['Grapes', 'Banana']"
      ]
     },
     "execution_count": 56,
     "metadata": {},
     "output_type": "execute_result"
    }
   ],
   "source": [
    "my_list.pop()"
   ]
  },
  {
   "cell_type": "code",
   "execution_count": 57,
   "id": "33b46481-9d3f-476e-9366-2b93f89ab818",
   "metadata": {},
   "outputs": [
    {
     "data": {
      "text/plain": [
       "['Kiwi', 'Apple', 'Blueberry', 'Kiwi']"
      ]
     },
     "execution_count": 57,
     "metadata": {},
     "output_type": "execute_result"
    }
   ],
   "source": [
    "my_list"
   ]
  },
  {
   "cell_type": "code",
   "execution_count": 58,
   "id": "13a5bc37-e592-42d6-a5c8-66821ce0f54e",
   "metadata": {},
   "outputs": [
    {
     "data": {
      "text/plain": [
       "'Blueberry'"
      ]
     },
     "execution_count": 58,
     "metadata": {},
     "output_type": "execute_result"
    }
   ],
   "source": [
    "my_list.pop(2)"
   ]
  },
  {
   "cell_type": "code",
   "execution_count": 59,
   "id": "5bff11a8-a862-4fe8-9465-bcbf9722e355",
   "metadata": {},
   "outputs": [
    {
     "data": {
      "text/plain": [
       "['Kiwi', 'Apple', 'Kiwi']"
      ]
     },
     "execution_count": 59,
     "metadata": {},
     "output_type": "execute_result"
    }
   ],
   "source": [
    "my_list"
   ]
  },
  {
   "cell_type": "code",
   "execution_count": 60,
   "id": "043b07f5-3b7f-4bad-b966-1b615e6bc75e",
   "metadata": {},
   "outputs": [],
   "source": [
    "my_list.insert(0,'Banana')\n"
   ]
  },
  {
   "cell_type": "code",
   "execution_count": 61,
   "id": "1a9e2913-6628-4f4e-852f-ce5eb8f08e96",
   "metadata": {},
   "outputs": [
    {
     "data": {
      "text/plain": [
       "['Banana', 'Kiwi', 'Apple', 'Kiwi']"
      ]
     },
     "execution_count": 61,
     "metadata": {},
     "output_type": "execute_result"
    }
   ],
   "source": [
    "my_list"
   ]
  },
  {
   "cell_type": "code",
   "execution_count": 62,
   "id": "863e8b7d-513a-437f-b7c5-3476c11f29cd",
   "metadata": {},
   "outputs": [],
   "source": [
    "my_list.remove('Apple')"
   ]
  },
  {
   "cell_type": "code",
   "execution_count": 63,
   "id": "d222e2f6-8b7b-4633-b84c-8d6ea593df6a",
   "metadata": {},
   "outputs": [
    {
     "data": {
      "text/plain": [
       "['Banana', 'Kiwi', 'Kiwi']"
      ]
     },
     "execution_count": 63,
     "metadata": {},
     "output_type": "execute_result"
    }
   ],
   "source": [
    "my_list"
   ]
  },
  {
   "cell_type": "code",
   "execution_count": 64,
   "id": "caa62ba2-fa6a-4cb3-8e72-3d663d00fa88",
   "metadata": {},
   "outputs": [],
   "source": [
    "my_list.insert(2,'Apple')"
   ]
  },
  {
   "cell_type": "code",
   "execution_count": 65,
   "id": "36da4837-c536-4644-b022-3190240d4401",
   "metadata": {},
   "outputs": [],
   "source": [
    "my_list.extend(['Apple'])"
   ]
  },
  {
   "cell_type": "code",
   "execution_count": 66,
   "id": "2ba3f303-9a07-4220-b68d-fb3f290b5372",
   "metadata": {},
   "outputs": [],
   "source": [
    "del(my_list[5:])"
   ]
  },
  {
   "cell_type": "code",
   "execution_count": 67,
   "id": "d43c2425-0d32-48bc-a2f7-7d38b54dcb59",
   "metadata": {},
   "outputs": [
    {
     "data": {
      "text/plain": [
       "['Banana', 'Kiwi', 'Apple', 'Kiwi', 'Apple']"
      ]
     },
     "execution_count": 67,
     "metadata": {},
     "output_type": "execute_result"
    }
   ],
   "source": [
    "my_list"
   ]
  },
  {
   "cell_type": "code",
   "execution_count": 68,
   "id": "f5d439e8-b18b-41ad-b3ab-f873315645ca",
   "metadata": {},
   "outputs": [],
   "source": [
    "my_list.remove('Apple')"
   ]
  },
  {
   "cell_type": "code",
   "execution_count": 69,
   "id": "9983fa52-19ec-4a7d-aee0-883f172985dc",
   "metadata": {},
   "outputs": [
    {
     "data": {
      "text/plain": [
       "['Banana', 'Kiwi', 'Kiwi', 'Apple']"
      ]
     },
     "execution_count": 69,
     "metadata": {},
     "output_type": "execute_result"
    }
   ],
   "source": [
    "my_list"
   ]
  },
  {
   "cell_type": "code",
   "execution_count": 70,
   "id": "779c3827-eba1-42cc-84fa-61de35efc58e",
   "metadata": {},
   "outputs": [],
   "source": [
    "my_list.extend(['pipneapple','Pomegranate'])"
   ]
  },
  {
   "cell_type": "code",
   "execution_count": 71,
   "id": "a16fa11a-e11f-4b03-a8c1-f4907e2f9e88",
   "metadata": {},
   "outputs": [
    {
     "data": {
      "text/plain": [
       "['Banana', 'Kiwi', 'Kiwi', 'Apple', 'pipneapple', 'Pomegranate']"
      ]
     },
     "execution_count": 71,
     "metadata": {},
     "output_type": "execute_result"
    }
   ],
   "source": [
    "my_list"
   ]
  },
  {
   "cell_type": "code",
   "execution_count": 72,
   "id": "0b5c4720-e1b9-4087-a642-10c2c470afe5",
   "metadata": {},
   "outputs": [],
   "source": [
    "my_list.sort()"
   ]
  },
  {
   "cell_type": "code",
   "execution_count": 73,
   "id": "6b74c2e4-907d-4a00-bbbd-fe1a9d3e0174",
   "metadata": {},
   "outputs": [
    {
     "data": {
      "text/plain": [
       "['Apple', 'Banana', 'Kiwi', 'Kiwi', 'Pomegranate', 'pipneapple']"
      ]
     },
     "execution_count": 73,
     "metadata": {},
     "output_type": "execute_result"
    }
   ],
   "source": [
    "my_list"
   ]
  },
  {
   "cell_type": "code",
   "execution_count": 74,
   "id": "624601e5-efa5-49e4-ae7d-22da3c53ddc5",
   "metadata": {},
   "outputs": [],
   "source": [
    "my_list.clear()"
   ]
  },
  {
   "cell_type": "code",
   "execution_count": 75,
   "id": "66bc718f-8a4e-4c4e-90d9-f654ad997db8",
   "metadata": {},
   "outputs": [
    {
     "data": {
      "text/plain": [
       "[]"
      ]
     },
     "execution_count": 75,
     "metadata": {},
     "output_type": "execute_result"
    }
   ],
   "source": [
    "my_list"
   ]
  },
  {
   "cell_type": "code",
   "execution_count": 76,
   "id": "e199f386-3232-4b8f-bd9e-ad334fd0afcf",
   "metadata": {},
   "outputs": [],
   "source": [
    "my_list.insert(1,'Apple')"
   ]
  },
  {
   "cell_type": "code",
   "execution_count": 77,
   "id": "c4af8c4e-ec41-4bb0-bc24-b6e13fee013b",
   "metadata": {},
   "outputs": [
    {
     "data": {
      "text/plain": [
       "['Apple']"
      ]
     },
     "execution_count": 77,
     "metadata": {},
     "output_type": "execute_result"
    }
   ],
   "source": [
    "my_list"
   ]
  },
  {
   "cell_type": "code",
   "execution_count": 78,
   "id": "60582a29-f922-4bdb-8e9c-a661ea571aab",
   "metadata": {},
   "outputs": [],
   "source": [
    "my_list.extend(['Kiwi','Banana','Blueberry','Strawberry'])"
   ]
  },
  {
   "cell_type": "code",
   "execution_count": 79,
   "id": "8582c920-e588-4bdc-8411-fb9b624f572a",
   "metadata": {},
   "outputs": [
    {
     "data": {
      "text/plain": [
       "['Apple', 'Kiwi', 'Banana', 'Blueberry', 'Strawberry']"
      ]
     },
     "execution_count": 79,
     "metadata": {},
     "output_type": "execute_result"
    }
   ],
   "source": [
    "my_list"
   ]
  },
  {
   "cell_type": "code",
   "execution_count": 80,
   "id": "d91a6f6b-3ff1-4cef-8870-7db875dc43fa",
   "metadata": {},
   "outputs": [
    {
     "data": {
      "text/plain": [
       "2"
      ]
     },
     "execution_count": 80,
     "metadata": {},
     "output_type": "execute_result"
    }
   ],
   "source": [
    "my_list.index('Banana')"
   ]
  },
  {
   "cell_type": "code",
   "execution_count": 81,
   "id": "fb6f364d-ef38-4d8e-97d0-ea7a977e2527",
   "metadata": {},
   "outputs": [],
   "source": [
    "my_list.append('Apple')"
   ]
  },
  {
   "cell_type": "code",
   "execution_count": 82,
   "id": "b01b5df5-6771-494e-87b7-813bdb392123",
   "metadata": {},
   "outputs": [
    {
     "data": {
      "text/plain": [
       "['Apple', 'Kiwi', 'Banana', 'Blueberry', 'Strawberry', 'Apple']"
      ]
     },
     "execution_count": 82,
     "metadata": {},
     "output_type": "execute_result"
    }
   ],
   "source": [
    "my_list"
   ]
  },
  {
   "cell_type": "code",
   "execution_count": 83,
   "id": "a3a3309f-8e0b-4156-9a28-4ed3966de268",
   "metadata": {},
   "outputs": [
    {
     "data": {
      "text/plain": [
       "2"
      ]
     },
     "execution_count": 83,
     "metadata": {},
     "output_type": "execute_result"
    }
   ],
   "source": [
    "my_list.count('Apple')"
   ]
  },
  {
   "cell_type": "code",
   "execution_count": 84,
   "id": "f2be452c-ecbf-4c7f-a243-d4dfd5b3370c",
   "metadata": {},
   "outputs": [],
   "source": [
    "my_list.reverse()"
   ]
  },
  {
   "cell_type": "code",
   "execution_count": 85,
   "id": "8597c18a-4dbc-4d66-b4e2-58132c9e6c2e",
   "metadata": {},
   "outputs": [
    {
     "data": {
      "text/plain": [
       "['Apple', 'Strawberry', 'Blueberry', 'Banana', 'Kiwi', 'Apple']"
      ]
     },
     "execution_count": 85,
     "metadata": {},
     "output_type": "execute_result"
    }
   ],
   "source": [
    "my_list"
   ]
  },
  {
   "cell_type": "code",
   "execution_count": 88,
   "id": "d67b10d9-f169-4412-80ed-044ff2d5d555",
   "metadata": {},
   "outputs": [],
   "source": [
    "my_list2=my_list.copy()"
   ]
  },
  {
   "cell_type": "code",
   "execution_count": 89,
   "id": "d7f8b9e0-2c16-4a0e-b7a7-b1f307d45eaa",
   "metadata": {},
   "outputs": [
    {
     "data": {
      "text/plain": [
       "['Apple', 'Strawberry', 'Blueberry', 'Banana', 'Kiwi', 'Apple']"
      ]
     },
     "execution_count": 89,
     "metadata": {},
     "output_type": "execute_result"
    }
   ],
   "source": [
    "my_list2"
   ]
  },
  {
   "cell_type": "code",
   "execution_count": 90,
   "id": "b3be04cc-cdb1-490a-9ea7-0745867321e2",
   "metadata": {},
   "outputs": [
    {
     "data": {
      "text/plain": [
       "'Apple'"
      ]
     },
     "execution_count": 90,
     "metadata": {},
     "output_type": "execute_result"
    }
   ],
   "source": [
    "my_list.pop()"
   ]
  },
  {
   "cell_type": "code",
   "execution_count": 91,
   "id": "680439a3-be9e-4014-9622-e2dfa776c507",
   "metadata": {},
   "outputs": [
    {
     "data": {
      "text/plain": [
       "['Apple', 'Strawberry', 'Blueberry', 'Banana', 'Kiwi']"
      ]
     },
     "execution_count": 91,
     "metadata": {},
     "output_type": "execute_result"
    }
   ],
   "source": [
    "my_list"
   ]
  },
  {
   "cell_type": "code",
   "execution_count": 92,
   "id": "41de907f-482b-480b-9fb9-923c05f9826c",
   "metadata": {},
   "outputs": [
    {
     "data": {
      "text/plain": [
       "['Apple', 'Strawberry', 'Blueberry', 'Banana', 'Kiwi', 'Apple']"
      ]
     },
     "execution_count": 92,
     "metadata": {},
     "output_type": "execute_result"
    }
   ],
   "source": [
    "my_list2"
   ]
  },
  {
   "cell_type": "code",
   "execution_count": null,
   "id": "e94cb733-b0db-4ad0-8b36-078b6dcc908d",
   "metadata": {},
   "outputs": [],
   "source": []
  }
 ],
 "metadata": {
  "kernelspec": {
   "display_name": "Python 3 (ipykernel)",
   "language": "python",
   "name": "python3"
  },
  "language_info": {
   "codemirror_mode": {
    "name": "ipython",
    "version": 3
   },
   "file_extension": ".py",
   "mimetype": "text/x-python",
   "name": "python",
   "nbconvert_exporter": "python",
   "pygments_lexer": "ipython3",
   "version": "3.9.19"
  }
 },
 "nbformat": 4,
 "nbformat_minor": 5
}
