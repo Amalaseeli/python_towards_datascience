{
 "cells": [
  {
   "cell_type": "markdown",
   "id": "2f171c69-75d1-4e82-8c1f-edc6011869fe",
   "metadata": {},
   "source": [
    "### Numpy\n",
    "- Numpy is a Python library that helps create a multi-dimensional array and performs mathematical operations on arrays."
   ]
  },
  {
   "cell_type": "markdown",
   "id": "df5beccf-f946-4687-92cb-a904974173c8",
   "metadata": {},
   "source": [
    "#### Installing NumPy\n",
    "* conda install numpy \n",
    "\n",
    "* pip install numpy"
   ]
  },
  {
   "cell_type": "code",
   "execution_count": 69,
   "id": "06ffa9bd-b8b4-4737-bf74-51d3edea3db0",
   "metadata": {},
   "outputs": [],
   "source": [
    "#import numpy\n",
    "import numpy as np"
   ]
  },
  {
   "cell_type": "markdown",
   "id": "3bb8dd95-2b35-4794-b898-2c83fe187dfc",
   "metadata": {},
   "source": [
    "#### Array creation"
   ]
  },
  {
   "cell_type": "code",
   "execution_count": 70,
   "id": "3695ee96-3cbb-4c06-867a-af1a7793b8f0",
   "metadata": {},
   "outputs": [],
   "source": [
    "my_list=[1,2,3,4,6]"
   ]
  },
  {
   "cell_type": "code",
   "execution_count": 71,
   "id": "da5b9b12-3d4c-4164-817e-938ea741c9f9",
   "metadata": {},
   "outputs": [],
   "source": [
    "arr=np.array(my_list)"
   ]
  },
  {
   "cell_type": "code",
   "execution_count": 72,
   "id": "b4dcd409-9044-4859-947d-db6c2d286847",
   "metadata": {},
   "outputs": [
    {
     "data": {
      "text/plain": [
       "array([1, 2, 3, 4, 6])"
      ]
     },
     "execution_count": 72,
     "metadata": {},
     "output_type": "execute_result"
    }
   ],
   "source": [
    "arr"
   ]
  },
  {
   "cell_type": "code",
   "execution_count": 73,
   "id": "e3154626-8c2d-4cf6-8b92-efb9cb0b2988",
   "metadata": {},
   "outputs": [
    {
     "data": {
      "text/plain": [
       "numpy.ndarray"
      ]
     },
     "execution_count": 73,
     "metadata": {},
     "output_type": "execute_result"
    }
   ],
   "source": [
    "type(arr)"
   ]
  },
  {
   "cell_type": "code",
   "execution_count": 74,
   "id": "65ee762e-9e0a-4d46-9498-23412817a6fa",
   "metadata": {},
   "outputs": [],
   "source": [
    "arr2=np.array([1.3,2.9,4.5])"
   ]
  },
  {
   "cell_type": "code",
   "execution_count": 75,
   "id": "5571d2d8-f997-4090-aefb-9b1cb624fa65",
   "metadata": {},
   "outputs": [
    {
     "data": {
      "text/plain": [
       "array([1.3, 2.9, 4.5])"
      ]
     },
     "execution_count": 75,
     "metadata": {},
     "output_type": "execute_result"
    }
   ],
   "source": [
    "arr2\n"
   ]
  },
  {
   "cell_type": "code",
   "execution_count": 76,
   "id": "c599628e-b9a1-4765-95c6-d7f1d6e0bc35",
   "metadata": {},
   "outputs": [
    {
     "data": {
      "text/plain": [
       "numpy.ndarray"
      ]
     },
     "execution_count": 76,
     "metadata": {},
     "output_type": "execute_result"
    }
   ],
   "source": [
    "type(arr2)"
   ]
  },
  {
   "cell_type": "code",
   "execution_count": 77,
   "id": "a98237c3-9c4a-46a0-82ff-445a6c7b78e5",
   "metadata": {},
   "outputs": [
    {
     "data": {
      "text/plain": [
       "dtype('float64')"
      ]
     },
     "execution_count": 77,
     "metadata": {},
     "output_type": "execute_result"
    }
   ],
   "source": [
    "#type of the data\n",
    "arr2.dtype"
   ]
  },
  {
   "cell_type": "code",
   "execution_count": 78,
   "id": "a52a3784-7136-410e-88e6-36526add9959",
   "metadata": {},
   "outputs": [],
   "source": [
    "#multi dimensional array\n",
    "list1=['Appple', 'Oranges']\n",
    "list2=[1,2]\n",
    "list3=['a', 'b']\n"
   ]
  },
  {
   "cell_type": "code",
   "execution_count": 79,
   "id": "6f1fe917-33f3-4ef6-896b-51e491fb0146",
   "metadata": {},
   "outputs": [],
   "source": [
    "arr=np.array([list1,list2,list3])"
   ]
  },
  {
   "cell_type": "code",
   "execution_count": 80,
   "id": "e2d6f3a6-0c86-4bc4-ba28-bea636a44572",
   "metadata": {},
   "outputs": [
    {
     "data": {
      "text/plain": [
       "array([['Appple', 'Oranges'],\n",
       "       ['1', '2'],\n",
       "       ['a', 'b']], dtype='<U11')"
      ]
     },
     "execution_count": 80,
     "metadata": {},
     "output_type": "execute_result"
    }
   ],
   "source": [
    "arr"
   ]
  },
  {
   "cell_type": "code",
   "execution_count": 81,
   "id": "85422472-b9f0-43f2-bad7-f176b2212b81",
   "metadata": {},
   "outputs": [
    {
     "data": {
      "text/plain": [
       "2"
      ]
     },
     "execution_count": 81,
     "metadata": {},
     "output_type": "execute_result"
    }
   ],
   "source": [
    "arr.ndim"
   ]
  },
  {
   "cell_type": "code",
   "execution_count": 82,
   "id": "f25a29ed-6eae-4693-a88d-152716a43471",
   "metadata": {},
   "outputs": [
    {
     "data": {
      "text/plain": [
       "numpy.ndarray"
      ]
     },
     "execution_count": 82,
     "metadata": {},
     "output_type": "execute_result"
    }
   ],
   "source": [
    "type(arr)"
   ]
  },
  {
   "cell_type": "code",
   "execution_count": 83,
   "id": "dc883801-a3b3-4ae9-8c51-1271618ba862",
   "metadata": {},
   "outputs": [
    {
     "data": {
      "text/plain": [
       "(3, 2)"
      ]
     },
     "execution_count": 83,
     "metadata": {},
     "output_type": "execute_result"
    }
   ],
   "source": [
    "arr.shape"
   ]
  },
  {
   "cell_type": "markdown",
   "id": "56fbf05f-6532-405d-85e5-0b5aee78f276",
   "metadata": {},
   "source": [
    "### arange\n",
    "- create arrays with regular interval values"
   ]
  },
  {
   "cell_type": "code",
   "execution_count": 84,
   "id": "daa0469b-9a0c-4054-ba75-4a1f85f56d9d",
   "metadata": {},
   "outputs": [
    {
     "data": {
      "text/plain": [
       "array([0, 1, 2, 3, 4, 5])"
      ]
     },
     "execution_count": 84,
     "metadata": {},
     "output_type": "execute_result"
    }
   ],
   "source": [
    "#arrange given evenly spaced values within a given interval  \n",
    "array1=np.arange(6)\n",
    "array1"
   ]
  },
  {
   "cell_type": "code",
   "execution_count": 85,
   "id": "5ad0a693-928b-4f46-8ae7-7017c46b9e62",
   "metadata": {},
   "outputs": [
    {
     "data": {
      "text/plain": [
       "numpy.ndarray"
      ]
     },
     "execution_count": 85,
     "metadata": {},
     "output_type": "execute_result"
    }
   ],
   "source": [
    "type(array1)"
   ]
  },
  {
   "cell_type": "code",
   "execution_count": 86,
   "id": "cdd6d44b-003c-4f6d-8d0d-da5d02661d6e",
   "metadata": {},
   "outputs": [
    {
     "data": {
      "text/plain": [
       "dtype('int32')"
      ]
     },
     "execution_count": 86,
     "metadata": {},
     "output_type": "execute_result"
    }
   ],
   "source": [
    "array1.dtype"
   ]
  },
  {
   "cell_type": "code",
   "execution_count": 87,
   "id": "bbb7868e-68d3-4484-b2b5-b7ebd0e3a534",
   "metadata": {},
   "outputs": [
    {
     "data": {
      "text/plain": [
       "(6,)"
      ]
     },
     "execution_count": 87,
     "metadata": {},
     "output_type": "execute_result"
    }
   ],
   "source": [
    "#check the shape of the array\n",
    "array1.shape"
   ]
  },
  {
   "cell_type": "code",
   "execution_count": 88,
   "id": "665d6b46-7c70-4e73-b5cc-6d9b0b4ffd5c",
   "metadata": {},
   "outputs": [
    {
     "data": {
      "text/plain": [
       "array([[0, 1, 2],\n",
       "       [3, 4, 5]])"
      ]
     },
     "execution_count": 88,
     "metadata": {},
     "output_type": "execute_result"
    }
   ],
   "source": [
    "array1.reshape(2,3)"
   ]
  },
  {
   "cell_type": "code",
   "execution_count": 89,
   "id": "85e7f19b-90c1-4937-940a-d9195fd72363",
   "metadata": {},
   "outputs": [
    {
     "data": {
      "text/plain": [
       "6"
      ]
     },
     "execution_count": 89,
     "metadata": {},
     "output_type": "execute_result"
    }
   ],
   "source": [
    "array1.size"
   ]
  },
  {
   "cell_type": "code",
   "execution_count": 90,
   "id": "167f7249-9a86-40c5-8ebe-3c9e8c0e3c8f",
   "metadata": {},
   "outputs": [],
   "source": [
    "a=np.arange(15).reshape(3,5)"
   ]
  },
  {
   "cell_type": "code",
   "execution_count": 91,
   "id": "df2b4c34-83eb-4414-9027-4e7809b2eaea",
   "metadata": {},
   "outputs": [
    {
     "data": {
      "text/plain": [
       "array([[ 0,  1,  2,  3,  4],\n",
       "       [ 5,  6,  7,  8,  9],\n",
       "       [10, 11, 12, 13, 14]])"
      ]
     },
     "execution_count": 91,
     "metadata": {},
     "output_type": "execute_result"
    }
   ],
   "source": [
    "a"
   ]
  },
  {
   "cell_type": "code",
   "execution_count": 92,
   "id": "3f8546fc-7cdb-4b70-9550-a4a8e4b2beb7",
   "metadata": {},
   "outputs": [
    {
     "data": {
      "text/plain": [
       "4"
      ]
     },
     "execution_count": 92,
     "metadata": {},
     "output_type": "execute_result"
    }
   ],
   "source": [
    "a.itemsize"
   ]
  },
  {
   "cell_type": "code",
   "execution_count": 102,
   "id": "a1fe00cc-27b8-4107-b18e-3581fdb24d09",
   "metadata": {},
   "outputs": [
    {
     "data": {
      "text/plain": [
       "array([1, 3, 5, 7, 9])"
      ]
     },
     "execution_count": 102,
     "metadata": {},
     "output_type": "execute_result"
    }
   ],
   "source": [
    "np.arange(1,10,2)"
   ]
  },
  {
   "cell_type": "markdown",
   "id": "7233d1b3-297c-475b-9113-cba3d3cf121d",
   "metadata": {},
   "source": [
    "#### linspace\n",
    "- Return evenly spaced numbers over a specified interval."
   ]
  },
  {
   "cell_type": "code",
   "execution_count": 98,
   "id": "9df8fc15-5403-41a4-910c-4ae2871df81c",
   "metadata": {},
   "outputs": [
    {
     "data": {
      "text/plain": [
       "array([ 1.,  4.,  7., 10.])"
      ]
     },
     "execution_count": 98,
     "metadata": {},
     "output_type": "execute_result"
    }
   ],
   "source": [
    "\n",
    "np.linspace(1,10,4)"
   ]
  },
  {
   "cell_type": "code",
   "execution_count": 103,
   "id": "4e571b39-19e7-41a2-8bc5-6429fa21aee6",
   "metadata": {},
   "outputs": [
    {
     "data": {
      "text/plain": [
       "array([ 1.  ,  3.25,  5.5 ,  7.75, 10.  ])"
      ]
     },
     "execution_count": 103,
     "metadata": {},
     "output_type": "execute_result"
    }
   ],
   "source": [
    "np.linspace(1,10,5)"
   ]
  },
  {
   "cell_type": "markdown",
   "id": "31185d52-afd0-44a7-9525-013fe87826c0",
   "metadata": {},
   "source": [
    "### special case matrices\n",
    "#### identity matrix"
   ]
  },
  {
   "cell_type": "code",
   "execution_count": 105,
   "id": "130b896d-0474-4262-806c-4200eea8b490",
   "metadata": {},
   "outputs": [
    {
     "data": {
      "text/plain": [
       "array([[1., 0.],\n",
       "       [0., 1.]])"
      ]
     },
     "execution_count": 105,
     "metadata": {},
     "output_type": "execute_result"
    }
   ],
   "source": [
    "np.eye(2)"
   ]
  },
  {
   "cell_type": "code",
   "execution_count": 106,
   "id": "2b96133e-c612-4eca-b086-09e8e4bf46e7",
   "metadata": {},
   "outputs": [
    {
     "data": {
      "text/plain": [
       "array([[1., 0., 0.],\n",
       "       [0., 1., 0.],\n",
       "       [0., 0., 1.]])"
      ]
     },
     "execution_count": 106,
     "metadata": {},
     "output_type": "execute_result"
    }
   ],
   "source": [
    "np.eye(3)"
   ]
  },
  {
   "cell_type": "code",
   "execution_count": 108,
   "id": "c505aca1-8837-4ce8-9d84-24554067480c",
   "metadata": {},
   "outputs": [
    {
     "data": {
      "text/plain": [
       "array([[1., 1., 1.],\n",
       "       [1., 1., 1.]])"
      ]
     },
     "execution_count": 108,
     "metadata": {},
     "output_type": "execute_result"
    }
   ],
   "source": [
    "np.ones([2,3])"
   ]
  },
  {
   "cell_type": "code",
   "execution_count": 109,
   "id": "5207da2f-c923-4581-82bd-358b845207f0",
   "metadata": {},
   "outputs": [
    {
     "data": {
      "text/plain": [
       "array([[0., 0., 0., 0.],\n",
       "       [0., 0., 0., 0.],\n",
       "       [0., 0., 0., 0.]])"
      ]
     },
     "execution_count": 109,
     "metadata": {},
     "output_type": "execute_result"
    }
   ],
   "source": [
    "np.zeros([3,4])"
   ]
  },
  {
   "cell_type": "code",
   "execution_count": 111,
   "id": "a91cfa70-54b6-46e5-ae33-a55befda3fb4",
   "metadata": {},
   "outputs": [
    {
     "data": {
      "text/plain": [
       "array([[1, 0, 0],\n",
       "       [0, 4, 0],\n",
       "       [0, 0, 7]])"
      ]
     },
     "execution_count": 111,
     "metadata": {},
     "output_type": "execute_result"
    }
   ],
   "source": [
    "np.diag([1,4,7])"
   ]
  },
  {
   "cell_type": "code",
   "execution_count": 113,
   "id": "3141783e-7f73-456e-a9f7-7c006702dac9",
   "metadata": {},
   "outputs": [
    {
     "data": {
      "text/plain": [
       "array([[0, 0, 1, 0, 0],\n",
       "       [0, 0, 0, 4, 0],\n",
       "       [0, 0, 0, 0, 7],\n",
       "       [0, 0, 0, 0, 0],\n",
       "       [0, 0, 0, 0, 0]])"
      ]
     },
     "execution_count": 113,
     "metadata": {},
     "output_type": "execute_result"
    }
   ],
   "source": [
    "np.diag([1,4,7],2)"
   ]
  },
  {
   "cell_type": "markdown",
   "id": "84444c98-f21c-4b98-83a6-5016671e03a3",
   "metadata": {},
   "source": [
    "### Block matrix\n"
   ]
  },
  {
   "cell_type": "code",
   "execution_count": 139,
   "id": "d4118dc0-017d-4c81-b228-94891ef710cf",
   "metadata": {},
   "outputs": [],
   "source": [
    "A=np.zeros((2,2))\n",
    "B=np.diag((3,4))\n",
    "C=np.ones((2,2))\n",
    "D=np.eye(2,2)"
   ]
  },
  {
   "cell_type": "code",
   "execution_count": 140,
   "id": "9045329d-ad47-4cef-878c-d4bec072b34a",
   "metadata": {},
   "outputs": [
    {
     "data": {
      "text/plain": [
       "array([[0., 0., 3., 0.],\n",
       "       [0., 0., 0., 4.],\n",
       "       [1., 1., 1., 0.],\n",
       "       [1., 1., 0., 1.]])"
      ]
     },
     "execution_count": 140,
     "metadata": {},
     "output_type": "execute_result"
    }
   ],
   "source": [
    "np.block([[A,B],[C,D]])"
   ]
  },
  {
   "cell_type": "markdown",
   "id": "28162cea-5f78-4abf-aa14-e89755c1a860",
   "metadata": {},
   "source": [
    "### random\n",
    "- Create array with random number between zero to one"
   ]
  },
  {
   "cell_type": "code",
   "execution_count": 123,
   "id": "297c6413-3a94-44ab-892d-6441a2b69b0f",
   "metadata": {},
   "outputs": [
    {
     "data": {
      "text/plain": [
       "array([[0.23102405, 0.3653764 , 0.42360146, 0.07046339, 0.15452769],\n",
       "       [0.45116771, 0.41416937, 0.06074462, 0.00919322, 0.96146207],\n",
       "       [0.55489032, 0.62275908, 0.30506361, 0.47017766, 0.23698849]])"
      ]
     },
     "execution_count": 123,
     "metadata": {},
     "output_type": "execute_result"
    }
   ],
   "source": [
    "np.random.rand(3,5)"
   ]
  },
  {
   "cell_type": "code",
   "execution_count": 189,
   "id": "08945554-6802-4b2d-8c1c-dbc27ed37798",
   "metadata": {},
   "outputs": [
    {
     "data": {
      "text/plain": [
       "array([[ 0.28557471,  0.9865283 , -0.20162066,  1.94186492],\n",
       "       [ 0.66602505,  0.69892639, -0.36921876, -1.99488199]])"
      ]
     },
     "execution_count": 189,
     "metadata": {},
     "output_type": "execute_result"
    }
   ],
   "source": [
    "np.random.randn(2,4)"
   ]
  },
  {
   "cell_type": "code",
   "execution_count": 194,
   "id": "9b3ecdb9-ab3f-4628-8894-7a37962b83b0",
   "metadata": {},
   "outputs": [
    {
     "data": {
      "text/plain": [
       "array([[65, 21, 71, 33, 23],\n",
       "       [86, 94, 53, 12, 13]])"
      ]
     },
     "execution_count": 194,
     "metadata": {},
     "output_type": "execute_result"
    }
   ],
   "source": [
    "np.random.randint(0,100,10).reshape(2,5)"
   ]
  },
  {
   "cell_type": "code",
   "execution_count": 196,
   "id": "91ade0da-1f97-4378-80e6-318d4efb06e7",
   "metadata": {},
   "outputs": [
    {
     "data": {
      "text/plain": [
       "array([[0.60239182, 0.10076992, 0.04472403, 0.04702647, 0.93520703,\n",
       "        0.9184103 , 0.47998362, 0.83358941],\n",
       "       [0.60974926, 0.35172716, 0.41336287, 0.41313336, 0.44401971,\n",
       "        0.12277515, 0.6559921 , 0.36993309]])"
      ]
     },
     "execution_count": 196,
     "metadata": {},
     "output_type": "execute_result"
    }
   ],
   "source": [
    "np.random.random_sample((2,8))"
   ]
  },
  {
   "cell_type": "markdown",
   "id": "eebd8f84-7531-4e3b-bf44-f68be3d56e0e",
   "metadata": {},
   "source": [
    "## indexing"
   ]
  },
  {
   "cell_type": "code",
   "execution_count": 141,
   "id": "d2461185-0a4e-492f-8d09-4daefeb38612",
   "metadata": {},
   "outputs": [],
   "source": [
    "x=np.arange(10)"
   ]
  },
  {
   "cell_type": "code",
   "execution_count": 142,
   "id": "ae132637-53fd-4035-aa0b-24e7830c0f72",
   "metadata": {},
   "outputs": [
    {
     "data": {
      "text/plain": [
       "array([0, 1, 2, 3, 4, 5, 6, 7, 8, 9])"
      ]
     },
     "execution_count": 142,
     "metadata": {},
     "output_type": "execute_result"
    }
   ],
   "source": [
    "x"
   ]
  },
  {
   "cell_type": "code",
   "execution_count": 153,
   "id": "2dacc5e4-9d1f-4bff-bbcd-71b2f2d0cb9d",
   "metadata": {},
   "outputs": [
    {
     "data": {
      "text/plain": [
       "2"
      ]
     },
     "execution_count": 153,
     "metadata": {},
     "output_type": "execute_result"
    }
   ],
   "source": [
    "x[2]"
   ]
  },
  {
   "cell_type": "code",
   "execution_count": 154,
   "id": "19b6c8ee-4efd-4b11-84f1-dc3ca5a221ee",
   "metadata": {},
   "outputs": [],
   "source": [
    "y=x.reshape(2,5)"
   ]
  },
  {
   "cell_type": "code",
   "execution_count": 155,
   "id": "a99205f3-454d-4971-ad61-91ac08a917d3",
   "metadata": {},
   "outputs": [
    {
     "data": {
      "text/plain": [
       "array([[0, 1, 2, 3, 4],\n",
       "       [5, 6, 7, 8, 9]])"
      ]
     },
     "execution_count": 155,
     "metadata": {},
     "output_type": "execute_result"
    }
   ],
   "source": [
    "y"
   ]
  },
  {
   "cell_type": "code",
   "execution_count": 156,
   "id": "26b99865-1585-47d2-ac06-39e21f69264f",
   "metadata": {},
   "outputs": [
    {
     "data": {
      "text/plain": [
       "8"
      ]
     },
     "execution_count": 156,
     "metadata": {},
     "output_type": "execute_result"
    }
   ],
   "source": [
    "y[1,3]"
   ]
  },
  {
   "cell_type": "code",
   "execution_count": 157,
   "id": "d55d0672-5110-45fa-ae25-7e2e4a100041",
   "metadata": {},
   "outputs": [
    {
     "data": {
      "text/plain": [
       "array([5, 6, 7, 8, 9])"
      ]
     },
     "execution_count": 157,
     "metadata": {},
     "output_type": "execute_result"
    }
   ],
   "source": [
    "y[1]"
   ]
  },
  {
   "cell_type": "code",
   "execution_count": 158,
   "id": "1ae9ad4e-a622-4b4c-b488-d58ba2822583",
   "metadata": {},
   "outputs": [
    {
     "data": {
      "text/plain": [
       "2"
      ]
     },
     "execution_count": 158,
     "metadata": {},
     "output_type": "execute_result"
    }
   ],
   "source": [
    "y[0][2]"
   ]
  },
  {
   "cell_type": "markdown",
   "id": "5e70b202-25e6-4e9c-a120-bb5750f99c88",
   "metadata": {},
   "source": [
    "### slicing\n",
    "- notation\n",
    "\n",
    "start: stop:step"
   ]
  },
  {
   "cell_type": "code",
   "execution_count": 166,
   "id": "6174e0a8-9340-4b1c-91c7-c817b50e09a3",
   "metadata": {},
   "outputs": [
    {
     "data": {
      "text/plain": [
       "array([ 1,  3,  2,  4,  6,  7,  9, 10])"
      ]
     },
     "execution_count": 166,
     "metadata": {},
     "output_type": "execute_result"
    }
   ],
   "source": [
    "a=np.array([1,3,2,4,6,7,9,10])\n",
    "a"
   ]
  },
  {
   "cell_type": "code",
   "execution_count": 167,
   "id": "6e388260-340c-4e7d-aae5-2faca65dcda7",
   "metadata": {},
   "outputs": [
    {
     "data": {
      "text/plain": [
       "array([3, 4, 7])"
      ]
     },
     "execution_count": 167,
     "metadata": {},
     "output_type": "execute_result"
    }
   ],
   "source": [
    "a[1:6:2] #step2"
   ]
  },
  {
   "cell_type": "code",
   "execution_count": 170,
   "id": "87b1d3a1-b0a1-4ad3-89a5-f3341bcba7e7",
   "metadata": {},
   "outputs": [
    {
     "data": {
      "text/plain": [
       "array([9])"
      ]
     },
     "execution_count": 170,
     "metadata": {},
     "output_type": "execute_result"
    }
   ],
   "source": [
    "a[-2:7]"
   ]
  },
  {
   "cell_type": "code",
   "execution_count": 160,
   "id": "29129ddb-427f-48b5-81d0-e6640d45b92c",
   "metadata": {},
   "outputs": [
    {
     "data": {
      "text/plain": [
       "array([[ 0,  1,  2,  3,  4],\n",
       "       [ 5,  6,  7,  8,  9],\n",
       "       [10, 11, 12, 13, 14]])"
      ]
     },
     "execution_count": 160,
     "metadata": {},
     "output_type": "execute_result"
    }
   ],
   "source": [
    "z=np.arange(15).reshape(3,5)\n",
    "z"
   ]
  },
  {
   "cell_type": "code",
   "execution_count": 164,
   "id": "a840ffaf-36c7-4594-aef1-3a321de693fc",
   "metadata": {},
   "outputs": [
    {
     "data": {
      "text/plain": [
       "array([[10, 11, 12, 13, 14]])"
      ]
     },
     "execution_count": 164,
     "metadata": {},
     "output_type": "execute_result"
    }
   ],
   "source": [
    "z[2:3]"
   ]
  },
  {
   "cell_type": "code",
   "execution_count": 171,
   "id": "4367973b-dc0f-4f12-9c9e-9fffa6c9e1dd",
   "metadata": {},
   "outputs": [
    {
     "data": {
      "text/plain": [
       "array([[ 5,  6,  7],\n",
       "       [10, 11, 12]])"
      ]
     },
     "execution_count": 171,
     "metadata": {},
     "output_type": "execute_result"
    }
   ],
   "source": [
    "z[1:,:3]"
   ]
  },
  {
   "cell_type": "code",
   "execution_count": 172,
   "id": "503fc8d1-9c4c-42d9-a68e-089dd93b1d7f",
   "metadata": {},
   "outputs": [
    {
     "data": {
      "text/plain": [
       "array([ 9, 14])"
      ]
     },
     "execution_count": 172,
     "metadata": {},
     "output_type": "execute_result"
    }
   ],
   "source": [
    "z[1:,-1]"
   ]
  },
  {
   "cell_type": "code",
   "execution_count": 173,
   "id": "61a08f42-5059-479f-b01d-8a5232bdffbb",
   "metadata": {},
   "outputs": [
    {
     "data": {
      "text/plain": [
       "array([[ 1,  2,  3],\n",
       "       [ 6,  7,  8],\n",
       "       [11, 12, 13]])"
      ]
     },
     "execution_count": 173,
     "metadata": {},
     "output_type": "execute_result"
    }
   ],
   "source": [
    "z[:,1:-1]"
   ]
  },
  {
   "cell_type": "code",
   "execution_count": 174,
   "id": "236136ae-64d4-4eaf-b8f8-f44ddc252662",
   "metadata": {},
   "outputs": [
    {
     "data": {
      "text/plain": [
       "array([[  0,   1,   2,   3,   4],\n",
       "       [  5,   6,   7,   8,   9],\n",
       "       [100, 100, 100, 100, 100]])"
      ]
     },
     "execution_count": 174,
     "metadata": {},
     "output_type": "execute_result"
    }
   ],
   "source": [
    "z[2:]=100\n",
    "z"
   ]
  },
  {
   "cell_type": "code",
   "execution_count": 185,
   "id": "7ebc23d7-ab3e-4674-bc4e-45dff9e0d09c",
   "metadata": {},
   "outputs": [],
   "source": [
    "q=[1,2,3,4,5]\n",
    "q=np.array(q)"
   ]
  },
  {
   "cell_type": "code",
   "execution_count": 187,
   "id": "fdd0179f-8d81-41fe-9338-db2ddde7f994",
   "metadata": {},
   "outputs": [
    {
     "data": {
      "text/plain": [
       "array([  1, 100, 100, 100, 100])"
      ]
     },
     "execution_count": 187,
     "metadata": {},
     "output_type": "execute_result"
    }
   ],
   "source": [
    "q[1:]=100\n",
    "q"
   ]
  },
  {
   "cell_type": "code",
   "execution_count": 188,
   "id": "1a03507d-5097-48b8-8325-4542b3bee02b",
   "metadata": {},
   "outputs": [
    {
     "data": {
      "text/plain": [
       "array([0, 1, 2])"
      ]
     },
     "execution_count": 188,
     "metadata": {},
     "output_type": "execute_result"
    }
   ],
   "source": [
    "z[z<3]"
   ]
  },
  {
   "cell_type": "code",
   "execution_count": null,
   "id": "1e21e0bb-4689-4d54-8367-207b938c7d58",
   "metadata": {},
   "outputs": [],
   "source": []
  }
 ],
 "metadata": {
  "kernelspec": {
   "display_name": "Python 3 (ipykernel)",
   "language": "python",
   "name": "python3"
  },
  "language_info": {
   "codemirror_mode": {
    "name": "ipython",
    "version": 3
   },
   "file_extension": ".py",
   "mimetype": "text/x-python",
   "name": "python",
   "nbconvert_exporter": "python",
   "pygments_lexer": "ipython3",
   "version": "3.9.19"
  }
 },
 "nbformat": 4,
 "nbformat_minor": 5
}
