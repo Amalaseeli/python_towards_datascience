{
 "cells": [
  {
   "cell_type": "code",
   "execution_count": null,
   "metadata": {},
   "outputs": [],
   "source": [
    "\n",
    "print('Downloading setup_script.py...')\n",
    " https://s3-eu-west-1.amazonaws.com/aicore-portal-public-prod-307050600709/lesson_files/a0e6fc59-46f5-4e1b-9f8a-046facdc2dfc/setup_script.py -q -O setup_script.py\n",
    "import setup_script\n",
    "print('Downloading dog_ages.csv...')\n",
    "!wget https://s3-eu-west-1.amazonaws.com/aicore-portal-public-prod-307050600709/lesson_files/a0e6fc59-46f5-4e1b-9f8a-046facdc2dfc/dog_ages.csv -q -O dog_ages.csv\n"
   ]
  }
 ],
 "metadata": {
  "kernelspec": {
   "display_name": "internship",
   "language": "python",
   "name": "python3"
  },
  "language_info": {
   "name": "python",
   "version": "3.12.5"
  }
 },
 "nbformat": 4,
 "nbformat_minor": 2
}
