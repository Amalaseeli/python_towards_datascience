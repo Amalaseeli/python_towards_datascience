{
 "cells": [
  {
   "cell_type": "markdown",
   "metadata": {},
   "source": [
    "## Cleaning Text Data\n",
    "1. string Trimming\n",
    "  - `.str.strip()` : The .str.strip() method is used to remove whitespace from the beginning and end of a string. It's particularly useful when your dataset contains extra spaces that may affect data quality or analysis."
   ]
  },
  {
   "cell_type": "code",
   "execution_count": 1,
   "metadata": {},
   "outputs": [
    {
     "data": {
      "text/plain": [
       "0       Horse\n",
       "1    Horse   \n",
       "2       HORSE\n",
       "3     HORSE  \n",
       "4       H@RSE\n",
       "dtype: object"
      ]
     },
     "execution_count": 1,
     "metadata": {},
     "output_type": "execute_result"
    }
   ],
   "source": [
    "import pandas as pd\n",
    "example_series = pd.Series([' Horse', 'Horse   ', '   HORSE', 'HORSE  ', 'H@RSE'])\n",
    "example_series.head()"
   ]
  },
  {
   "cell_type": "code",
   "execution_count": 2,
   "metadata": {},
   "outputs": [
    {
     "data": {
      "text/plain": [
       "0    Horse\n",
       "1    Horse\n",
       "2    HORSE\n",
       "3    HORSE\n",
       "4    H@RSE\n",
       "dtype: object"
      ]
     },
     "execution_count": 2,
     "metadata": {},
     "output_type": "execute_result"
    }
   ],
   "source": [
    "example_series=example_series.str.strip()\n",
    "example_series"
   ]
  },
  {
   "cell_type": "markdown",
   "metadata": {},
   "source": [
    "2. Converting Case\n",
    "- .str.lower()\n",
    "- .str.upper()"
   ]
  },
  {
   "cell_type": "code",
   "execution_count": 3,
   "metadata": {},
   "outputs": [
    {
     "data": {
      "text/plain": [
       "0    horse\n",
       "1    horse\n",
       "2    horse\n",
       "3    horse\n",
       "4    h@rse\n",
       "dtype: object"
      ]
     },
     "execution_count": 3,
     "metadata": {},
     "output_type": "execute_result"
    }
   ],
   "source": [
    "example_series.str.lower()"
   ]
  },
  {
   "cell_type": "code",
   "execution_count": 4,
   "metadata": {},
   "outputs": [
    {
     "data": {
      "text/plain": [
       "0    HORSE\n",
       "1    HORSE\n",
       "2    HORSE\n",
       "3    HORSE\n",
       "4    H@RSE\n",
       "dtype: object"
      ]
     },
     "execution_count": 4,
     "metadata": {},
     "output_type": "execute_result"
    }
   ],
   "source": [
    "example_series.str.upper()"
   ]
  },
  {
   "cell_type": "markdown",
   "metadata": {},
   "source": [
    "3.  Fixing Incorrect Values with the replace() Method"
   ]
  },
  {
   "cell_type": "code",
   "execution_count": 8,
   "metadata": {},
   "outputs": [
    {
     "data": {
      "text/plain": [
       "0    horse\n",
       "1    horse\n",
       "2    horse\n",
       "3    horse\n",
       "4    horse\n",
       "dtype: object"
      ]
     },
     "execution_count": 8,
     "metadata": {},
     "output_type": "execute_result"
    }
   ],
   "source": [
    "example_series=example_series.str.replace('@', 'O').str.lower()\n",
    "example_series.head()"
   ]
  },
  {
   "cell_type": "code",
   "execution_count": 9,
   "metadata": {},
   "outputs": [
    {
     "data": {
      "text/plain": [
       "CANCELLED\n",
       "False        19\n",
       "0            13\n",
       "F            13\n",
       "True          3\n",
       "1             1\n",
       "T             1\n",
       "Name: count, dtype: int64"
      ]
     },
     "execution_count": 9,
     "metadata": {},
     "output_type": "execute_result"
    }
   ],
   "source": [
    "cancelled = pd.read_csv('https://cdn.theaicore.com/content/lessons/b17e0a6b-68db-4a1f-9433-04ab57d6da3a/cancellations.csv')\n",
    "\n",
    "cancelled.value_counts()"
   ]
  },
  {
   "cell_type": "code",
   "execution_count": 12,
   "metadata": {},
   "outputs": [
    {
     "data": {
      "text/plain": [
       "CANCELLED\n",
       "False        19\n",
       "False        13\n",
       "F            13\n",
       "True          3\n",
       "1             1\n",
       "T             1\n",
       "Name: count, dtype: int64"
      ]
     },
     "execution_count": 12,
     "metadata": {},
     "output_type": "execute_result"
    }
   ],
   "source": [
    "cancelled.replace({\"0\": False},inplace=True)\n",
    "cancelled.value_counts()"
   ]
  },
  {
   "cell_type": "code",
   "execution_count": 13,
   "metadata": {},
   "outputs": [
    {
     "name": "stderr",
     "output_type": "stream",
     "text": [
      "C:\\Users\\Thenu\\AppData\\Local\\Temp\\ipykernel_11884\\153260280.py:2: FutureWarning: Downcasting behavior in `replace` is deprecated and will be removed in a future version. To retain the old behavior, explicitly call `result.infer_objects(copy=False)`. To opt-in to the future behavior, set `pd.set_option('future.no_silent_downcasting', True)`\n",
      "  cancelled.replace(mapping_dictionary, inplace=True)\n"
     ]
    },
    {
     "data": {
      "text/plain": [
       "CANCELLED\n",
       "False        45\n",
       "True          5\n",
       "Name: count, dtype: int64"
      ]
     },
     "execution_count": 13,
     "metadata": {},
     "output_type": "execute_result"
    }
   ],
   "source": [
    "mapping_dictionary = {'0': False, '1': True, 'F': False, 'T': True, 'True': True, 'False': False}\n",
    "cancelled.replace(mapping_dictionary, inplace=True)\n",
    "cancelled = cancelled.astype('bool')\n",
    "cancelled.value_counts()"
   ]
  },
  {
   "cell_type": "markdown",
   "metadata": {},
   "source": [
    "### Regular Expression\n",
    "- use the str.match() method to apply the regex expression"
   ]
  },
  {
   "cell_type": "code",
   "execution_count": 20,
   "metadata": {},
   "outputs": [
    {
     "data": {
      "text/html": [
       "<div>\n",
       "<style scoped>\n",
       "    .dataframe tbody tr th:only-of-type {\n",
       "        vertical-align: middle;\n",
       "    }\n",
       "\n",
       "    .dataframe tbody tr th {\n",
       "        vertical-align: top;\n",
       "    }\n",
       "\n",
       "    .dataframe thead th {\n",
       "        text-align: right;\n",
       "    }\n",
       "</style>\n",
       "<table border=\"1\" class=\"dataframe\">\n",
       "  <thead>\n",
       "    <tr style=\"text-align: right;\">\n",
       "      <th></th>\n",
       "      <th>Name</th>\n",
       "      <th>Phone</th>\n",
       "    </tr>\n",
       "  </thead>\n",
       "  <tbody>\n",
       "    <tr>\n",
       "      <th>0</th>\n",
       "      <td>Alice</td>\n",
       "      <td>0123456789</td>\n",
       "    </tr>\n",
       "    <tr>\n",
       "      <th>1</th>\n",
       "      <td>Bob</td>\n",
       "      <td>01234 567890</td>\n",
       "    </tr>\n",
       "    <tr>\n",
       "      <th>2</th>\n",
       "      <td>Charlie</td>\n",
       "      <td>+441234567890</td>\n",
       "    </tr>\n",
       "    <tr>\n",
       "      <th>3</th>\n",
       "      <td>Diana</td>\n",
       "      <td>0123-456-789</td>\n",
       "    </tr>\n",
       "    <tr>\n",
       "      <th>4</th>\n",
       "      <td>Eva</td>\n",
       "      <td>(0123) 456789</td>\n",
       "    </tr>\n",
       "    <tr>\n",
       "      <th>5</th>\n",
       "      <td>Frank</td>\n",
       "      <td>1234567890</td>\n",
       "    </tr>\n",
       "    <tr>\n",
       "      <th>6</th>\n",
       "      <td>Grace</td>\n",
       "      <td>0123456789a</td>\n",
       "    </tr>\n",
       "    <tr>\n",
       "      <th>7</th>\n",
       "      <td>Hank</td>\n",
       "      <td>01234-567-890</td>\n",
       "    </tr>\n",
       "    <tr>\n",
       "      <th>8</th>\n",
       "      <td>Ivy</td>\n",
       "      <td>+44 1234 567890</td>\n",
       "    </tr>\n",
       "    <tr>\n",
       "      <th>9</th>\n",
       "      <td>Jack</td>\n",
       "      <td>01234</td>\n",
       "    </tr>\n",
       "  </tbody>\n",
       "</table>\n",
       "</div>"
      ],
      "text/plain": [
       "      Name            Phone\n",
       "0    Alice       0123456789\n",
       "1      Bob     01234 567890\n",
       "2  Charlie    +441234567890\n",
       "3    Diana     0123-456-789\n",
       "4      Eva    (0123) 456789\n",
       "5    Frank       1234567890\n",
       "6    Grace      0123456789a\n",
       "7     Hank    01234-567-890\n",
       "8      Ivy  +44 1234 567890\n",
       "9     Jack            01234"
      ]
     },
     "execution_count": 20,
     "metadata": {},
     "output_type": "execute_result"
    }
   ],
   "source": [
    "# Creating a sample dataframe\n",
    "data = {\n",
    "    'Name': ['Alice', 'Bob', 'Charlie', 'Diana', 'Eva', 'Frank', 'Grace', 'Hank', 'Ivy', 'Jack'],\n",
    "    'Phone': ['0123456789', '01234 567890', '+441234567890', '0123-456-789', \n",
    "              '(0123) 456789', '1234567890', '0123456789a', '01234-567-890', \n",
    "              '+44 1234 567890', '01234']\n",
    "}\n",
    "\n",
    "phone_df = pd.DataFrame(data)\n",
    "phone_df.head(10)"
   ]
  },
  {
   "cell_type": "code",
   "execution_count": 17,
   "metadata": {},
   "outputs": [
    {
     "name": "stderr",
     "output_type": "stream",
     "text": [
      "<>:3: SyntaxWarning: invalid escape sequence '\\('\n",
      "<>:3: SyntaxWarning: invalid escape sequence '\\('\n",
      "C:\\Users\\Thenu\\AppData\\Local\\Temp\\ipykernel_11884\\4288262543.py:3: SyntaxWarning: invalid escape sequence '\\('\n",
      "  regex_expression = '^(?:(?:\\(?(?:0(?:0|11)\\)?[\\s-]?\\(?|\\+)44\\)?[\\s-]?(?:\\(?0\\)?[\\s-]?)?)|(?:\\(?0))(?:(?:\\d{5}\\)?[\\s-]?\\d{4,5})|(?:\\d{4}\\)?[\\s-]?(?:\\d{5}|\\d{3}[\\s-]?\\d{3}))|(?:\\d{3}\\)?[\\s-]?\\d{3}[\\s-]?\\d{3,4})|(?:\\d{2}\\)?[\\s-]?\\d{4}[\\s-]?\\d{4}))(?:[\\s-]?(?:x|ext\\.?|\\#)\\d{3,4})?$' #Our regular expression to match\n"
     ]
    },
    {
     "data": {
      "text/html": [
       "<div>\n",
       "<style scoped>\n",
       "    .dataframe tbody tr th:only-of-type {\n",
       "        vertical-align: middle;\n",
       "    }\n",
       "\n",
       "    .dataframe tbody tr th {\n",
       "        vertical-align: top;\n",
       "    }\n",
       "\n",
       "    .dataframe thead th {\n",
       "        text-align: right;\n",
       "    }\n",
       "</style>\n",
       "<table border=\"1\" class=\"dataframe\">\n",
       "  <thead>\n",
       "    <tr style=\"text-align: right;\">\n",
       "      <th></th>\n",
       "      <th>Name</th>\n",
       "      <th>Phone</th>\n",
       "    </tr>\n",
       "  </thead>\n",
       "  <tbody>\n",
       "    <tr>\n",
       "      <th>0</th>\n",
       "      <td>Alice</td>\n",
       "      <td>0123456789</td>\n",
       "    </tr>\n",
       "    <tr>\n",
       "      <th>1</th>\n",
       "      <td>Bob</td>\n",
       "      <td>01234 567890</td>\n",
       "    </tr>\n",
       "    <tr>\n",
       "      <th>2</th>\n",
       "      <td>Charlie</td>\n",
       "      <td>+441234567890</td>\n",
       "    </tr>\n",
       "    <tr>\n",
       "      <th>3</th>\n",
       "      <td>Diana</td>\n",
       "      <td>0123-456-789</td>\n",
       "    </tr>\n",
       "    <tr>\n",
       "      <th>4</th>\n",
       "      <td>Eva</td>\n",
       "      <td>(0123) 456789</td>\n",
       "    </tr>\n",
       "    <tr>\n",
       "      <th>5</th>\n",
       "      <td>Frank</td>\n",
       "      <td>NaN</td>\n",
       "    </tr>\n",
       "    <tr>\n",
       "      <th>6</th>\n",
       "      <td>Grace</td>\n",
       "      <td>NaN</td>\n",
       "    </tr>\n",
       "    <tr>\n",
       "      <th>7</th>\n",
       "      <td>Hank</td>\n",
       "      <td>01234-567-890</td>\n",
       "    </tr>\n",
       "    <tr>\n",
       "      <th>8</th>\n",
       "      <td>Ivy</td>\n",
       "      <td>+44 1234 567890</td>\n",
       "    </tr>\n",
       "    <tr>\n",
       "      <th>9</th>\n",
       "      <td>Jack</td>\n",
       "      <td>NaN</td>\n",
       "    </tr>\n",
       "  </tbody>\n",
       "</table>\n",
       "</div>"
      ],
      "text/plain": [
       "      Name            Phone\n",
       "0    Alice       0123456789\n",
       "1      Bob     01234 567890\n",
       "2  Charlie    +441234567890\n",
       "3    Diana     0123-456-789\n",
       "4      Eva    (0123) 456789\n",
       "5    Frank              NaN\n",
       "6    Grace              NaN\n",
       "7     Hank    01234-567-890\n",
       "8      Ivy  +44 1234 567890\n",
       "9     Jack              NaN"
      ]
     },
     "execution_count": 17,
     "metadata": {},
     "output_type": "execute_result"
    }
   ],
   "source": [
    "import numpy as np # We will need the `nan` constant from the numpy library to apply to missing values\n",
    "\n",
    "regex_expression = '^(?:(?:\\(?(?:0(?:0|11)\\)?[\\s-]?\\(?|\\+)44\\)?[\\s-]?(?:\\(?0\\)?[\\s-]?)?)|(?:\\(?0))(?:(?:\\d{5}\\)?[\\s-]?\\d{4,5})|(?:\\d{4}\\)?[\\s-]?(?:\\d{5}|\\d{3}[\\s-]?\\d{3}))|(?:\\d{3}\\)?[\\s-]?\\d{3}[\\s-]?\\d{3,4})|(?:\\d{2}\\)?[\\s-]?\\d{4}[\\s-]?\\d{4}))(?:[\\s-]?(?:x|ext\\.?|\\#)\\d{3,4})?$' #Our regular expression to match\n",
    "phone_df.loc[~phone_df['Phone'].str.match(regex_expression), 'Phone'] = np.nan # For every row  where the Phone column does not match our regular expression, replace the value with NaN\n",
    "phone_df.head(10)"
   ]
  },
  {
   "cell_type": "code",
   "execution_count": 21,
   "metadata": {},
   "outputs": [
    {
     "data": {
      "text/html": [
       "<div>\n",
       "<style scoped>\n",
       "    .dataframe tbody tr th:only-of-type {\n",
       "        vertical-align: middle;\n",
       "    }\n",
       "\n",
       "    .dataframe tbody tr th {\n",
       "        vertical-align: top;\n",
       "    }\n",
       "\n",
       "    .dataframe thead th {\n",
       "        text-align: right;\n",
       "    }\n",
       "</style>\n",
       "<table border=\"1\" class=\"dataframe\">\n",
       "  <thead>\n",
       "    <tr style=\"text-align: right;\">\n",
       "      <th></th>\n",
       "      <th>Name</th>\n",
       "      <th>Phone</th>\n",
       "    </tr>\n",
       "  </thead>\n",
       "  <tbody>\n",
       "    <tr>\n",
       "      <th>0</th>\n",
       "      <td>Alice</td>\n",
       "      <td>0123456789</td>\n",
       "    </tr>\n",
       "    <tr>\n",
       "      <th>1</th>\n",
       "      <td>Bob</td>\n",
       "      <td>01234 567890</td>\n",
       "    </tr>\n",
       "    <tr>\n",
       "      <th>2</th>\n",
       "      <td>Charlie</td>\n",
       "      <td>01234567890</td>\n",
       "    </tr>\n",
       "    <tr>\n",
       "      <th>3</th>\n",
       "      <td>Diana</td>\n",
       "      <td>0123-456-789</td>\n",
       "    </tr>\n",
       "    <tr>\n",
       "      <th>4</th>\n",
       "      <td>Eva</td>\n",
       "      <td>(0123) 456789</td>\n",
       "    </tr>\n",
       "    <tr>\n",
       "      <th>5</th>\n",
       "      <td>Frank</td>\n",
       "      <td>1234567890</td>\n",
       "    </tr>\n",
       "    <tr>\n",
       "      <th>6</th>\n",
       "      <td>Grace</td>\n",
       "      <td>0123456789a</td>\n",
       "    </tr>\n",
       "    <tr>\n",
       "      <th>7</th>\n",
       "      <td>Hank</td>\n",
       "      <td>01234-567-890</td>\n",
       "    </tr>\n",
       "    <tr>\n",
       "      <th>8</th>\n",
       "      <td>Ivy</td>\n",
       "      <td>0 1234 567890</td>\n",
       "    </tr>\n",
       "    <tr>\n",
       "      <th>9</th>\n",
       "      <td>Jack</td>\n",
       "      <td>01234</td>\n",
       "    </tr>\n",
       "  </tbody>\n",
       "</table>\n",
       "</div>"
      ],
      "text/plain": [
       "      Name          Phone\n",
       "0    Alice     0123456789\n",
       "1      Bob   01234 567890\n",
       "2  Charlie    01234567890\n",
       "3    Diana   0123-456-789\n",
       "4      Eva  (0123) 456789\n",
       "5    Frank     1234567890\n",
       "6    Grace    0123456789a\n",
       "7     Hank  01234-567-890\n",
       "8      Ivy  0 1234 567890\n",
       "9     Jack          01234"
      ]
     },
     "execution_count": 21,
     "metadata": {},
     "output_type": "execute_result"
    }
   ],
   "source": [
    "phone_df['Phone']=phone_df['Phone'].str.replace(\"+44\",\"0\", regex=False)\n",
    "phone_df"
   ]
  },
  {
   "cell_type": "code",
   "execution_count": 24,
   "metadata": {},
   "outputs": [
    {
     "data": {
      "text/html": [
       "<div>\n",
       "<style scoped>\n",
       "    .dataframe tbody tr th:only-of-type {\n",
       "        vertical-align: middle;\n",
       "    }\n",
       "\n",
       "    .dataframe tbody tr th {\n",
       "        vertical-align: top;\n",
       "    }\n",
       "\n",
       "    .dataframe thead th {\n",
       "        text-align: right;\n",
       "    }\n",
       "</style>\n",
       "<table border=\"1\" class=\"dataframe\">\n",
       "  <thead>\n",
       "    <tr style=\"text-align: right;\">\n",
       "      <th></th>\n",
       "      <th>Name</th>\n",
       "      <th>Phone</th>\n",
       "    </tr>\n",
       "  </thead>\n",
       "  <tbody>\n",
       "    <tr>\n",
       "      <th>0</th>\n",
       "      <td>Alice</td>\n",
       "      <td>0123456789</td>\n",
       "    </tr>\n",
       "    <tr>\n",
       "      <th>1</th>\n",
       "      <td>Bob</td>\n",
       "      <td>01234567890</td>\n",
       "    </tr>\n",
       "    <tr>\n",
       "      <th>2</th>\n",
       "      <td>Charlie</td>\n",
       "      <td>01234567890</td>\n",
       "    </tr>\n",
       "    <tr>\n",
       "      <th>3</th>\n",
       "      <td>Diana</td>\n",
       "      <td>0123456789</td>\n",
       "    </tr>\n",
       "    <tr>\n",
       "      <th>4</th>\n",
       "      <td>Eva</td>\n",
       "      <td>0123456789</td>\n",
       "    </tr>\n",
       "    <tr>\n",
       "      <th>5</th>\n",
       "      <td>Frank</td>\n",
       "      <td>1234567890</td>\n",
       "    </tr>\n",
       "    <tr>\n",
       "      <th>6</th>\n",
       "      <td>Grace</td>\n",
       "      <td>0123456789a</td>\n",
       "    </tr>\n",
       "    <tr>\n",
       "      <th>7</th>\n",
       "      <td>Hank</td>\n",
       "      <td>01234567890</td>\n",
       "    </tr>\n",
       "    <tr>\n",
       "      <th>8</th>\n",
       "      <td>Ivy</td>\n",
       "      <td>01234567890</td>\n",
       "    </tr>\n",
       "    <tr>\n",
       "      <th>9</th>\n",
       "      <td>Jack</td>\n",
       "      <td>01234</td>\n",
       "    </tr>\n",
       "  </tbody>\n",
       "</table>\n",
       "</div>"
      ],
      "text/plain": [
       "      Name        Phone\n",
       "0    Alice   0123456789\n",
       "1      Bob  01234567890\n",
       "2  Charlie  01234567890\n",
       "3    Diana   0123456789\n",
       "4      Eva   0123456789\n",
       "5    Frank   1234567890\n",
       "6    Grace  0123456789a\n",
       "7     Hank  01234567890\n",
       "8      Ivy  01234567890\n",
       "9     Jack        01234"
      ]
     },
     "execution_count": 24,
     "metadata": {},
     "output_type": "execute_result"
    }
   ],
   "source": [
    "phone_df['Phone'] = phone_df['Phone'].replace({r'\\+44': '0', r'\\(': '', r'\\)': '', r'-': '', r' ': ''}, regex=True)\n",
    "phone_df"
   ]
  },
  {
   "cell_type": "markdown",
   "metadata": {},
   "source": [
    "## Unique values\n",
    "- unique()\n",
    "- nunique()"
   ]
  },
  {
   "cell_type": "code",
   "execution_count": 25,
   "metadata": {},
   "outputs": [
    {
     "name": "stdout",
     "output_type": "stream",
     "text": [
      "Original dataframe:\n",
      "  product_ids\n",
      "0        P001\n",
      "1        P002\n",
      "2        P003\n",
      "3        P001\n",
      "4        P004\n",
      "5        P005\n",
      "6        P003\n",
      "7        P006\n",
      "8        P002\n",
      "\n",
      "Unique product IDs:\n",
      "['P001' 'P002' 'P003' 'P004' 'P005' 'P006']\n",
      "\n",
      "Number of unique product IDs:\n",
      "6\n",
      "\n",
      "Total number of rows in the dataframe:\n",
      "9\n"
     ]
    }
   ],
   "source": [
    "# Creating a sample dataframe with a column of product IDs\n",
    "data = {'product_ids': ['P001', 'P002', 'P003', 'P001', 'P004', 'P005', 'P003', 'P006', 'P002']}\n",
    "products_df = pd.DataFrame(data)\n",
    "\n",
    "# Using `unique` to get unique product IDs\n",
    "unique_ids = products_df['product_ids'].unique()\n",
    "\n",
    "# Using `nunique` to get the number of unique product IDs\n",
    "num_unique_ids = products_df['product_ids'].nunique()\n",
    "\n",
    "# Displaying the original DataFrame\n",
    "print(\"Original dataframe:\")\n",
    "print(products_df)\n",
    "\n",
    "# Displaying the unique product IDs\n",
    "print(\"\\nUnique product IDs:\")\n",
    "print(unique_ids)\n",
    "\n",
    "# Displaying the number of unique product IDs and the total number of rows in the DataFrame\n",
    "print(\"\\nNumber of unique product IDs:\")\n",
    "print(num_unique_ids)\n",
    "\n",
    "\n",
    "print(\"\\nTotal number of rows in the dataframe:\")\n",
    "print(len(products_df))\n"
   ]
  },
  {
   "cell_type": "markdown",
   "metadata": {},
   "source": [
    "### Handling duplicates\n",
    "- duplicated()\n",
    "- drop_duplicates()"
   ]
  },
  {
   "cell_type": "code",
   "execution_count": 26,
   "metadata": {},
   "outputs": [
    {
     "data": {
      "text/html": [
       "<div>\n",
       "<style scoped>\n",
       "    .dataframe tbody tr th:only-of-type {\n",
       "        vertical-align: middle;\n",
       "    }\n",
       "\n",
       "    .dataframe tbody tr th {\n",
       "        vertical-align: top;\n",
       "    }\n",
       "\n",
       "    .dataframe thead th {\n",
       "        text-align: right;\n",
       "    }\n",
       "</style>\n",
       "<table border=\"1\" class=\"dataframe\">\n",
       "  <thead>\n",
       "    <tr style=\"text-align: right;\">\n",
       "      <th></th>\n",
       "      <th>Name</th>\n",
       "      <th>Age</th>\n",
       "      <th>Phone</th>\n",
       "      <th>Email</th>\n",
       "    </tr>\n",
       "  </thead>\n",
       "  <tbody>\n",
       "    <tr>\n",
       "      <th>0</th>\n",
       "      <td>Alice</td>\n",
       "      <td>28</td>\n",
       "      <td>123-456</td>\n",
       "      <td>alice@email.com</td>\n",
       "    </tr>\n",
       "    <tr>\n",
       "      <th>1</th>\n",
       "      <td>Bob</td>\n",
       "      <td>34</td>\n",
       "      <td>456-789</td>\n",
       "      <td>bob@email.com</td>\n",
       "    </tr>\n",
       "    <tr>\n",
       "      <th>2</th>\n",
       "      <td>Charlie</td>\n",
       "      <td>45</td>\n",
       "      <td>789-012</td>\n",
       "      <td>charlie@email.com</td>\n",
       "    </tr>\n",
       "    <tr>\n",
       "      <th>3</th>\n",
       "      <td>Alice</td>\n",
       "      <td>28</td>\n",
       "      <td>123-456</td>\n",
       "      <td>alice@email.com</td>\n",
       "    </tr>\n",
       "    <tr>\n",
       "      <th>4</th>\n",
       "      <td>Eva</td>\n",
       "      <td>23</td>\n",
       "      <td>345-678</td>\n",
       "      <td>eva@email.com</td>\n",
       "    </tr>\n",
       "    <tr>\n",
       "      <th>5</th>\n",
       "      <td>Charlie</td>\n",
       "      <td>45</td>\n",
       "      <td>789-012</td>\n",
       "      <td>charlie@email.com</td>\n",
       "    </tr>\n",
       "  </tbody>\n",
       "</table>\n",
       "</div>"
      ],
      "text/plain": [
       "      Name  Age    Phone              Email\n",
       "0    Alice   28  123-456    alice@email.com\n",
       "1      Bob   34  456-789      bob@email.com\n",
       "2  Charlie   45  789-012  charlie@email.com\n",
       "3    Alice   28  123-456    alice@email.com\n",
       "4      Eva   23  345-678      eva@email.com\n",
       "5  Charlie   45  789-012  charlie@email.com"
      ]
     },
     "execution_count": 26,
     "metadata": {},
     "output_type": "execute_result"
    }
   ],
   "source": [
    "# Creating a sample dataframe\n",
    "data = {\n",
    "    'Name': ['Alice', 'Bob', 'Charlie', 'Alice', 'Eva', 'Charlie'],\n",
    "    'Age': [28, 34, 45, 28, 23, 45],\n",
    "    'Phone': ['123-456', '456-789', '789-012', '123-456', '345-678', '789-012'],\n",
    "    'Email': ['alice@email.com', 'bob@email.com', 'charlie@email.com', \n",
    "              'alice@email.com', 'eva@email.com', 'charlie@email.com']\n",
    "}\n",
    "duplicate_df = pd.DataFrame(data)\n",
    "duplicate_df\n"
   ]
  },
  {
   "cell_type": "code",
   "execution_count": 27,
   "metadata": {},
   "outputs": [
    {
     "data": {
      "text/plain": [
       "0    False\n",
       "1    False\n",
       "2    False\n",
       "3     True\n",
       "4    False\n",
       "5     True\n",
       "dtype: bool"
      ]
     },
     "execution_count": 27,
     "metadata": {},
     "output_type": "execute_result"
    }
   ],
   "source": [
    "duplicate_df.duplicated()"
   ]
  },
  {
   "cell_type": "code",
   "execution_count": 28,
   "metadata": {},
   "outputs": [
    {
     "data": {
      "text/html": [
       "<div>\n",
       "<style scoped>\n",
       "    .dataframe tbody tr th:only-of-type {\n",
       "        vertical-align: middle;\n",
       "    }\n",
       "\n",
       "    .dataframe tbody tr th {\n",
       "        vertical-align: top;\n",
       "    }\n",
       "\n",
       "    .dataframe thead th {\n",
       "        text-align: right;\n",
       "    }\n",
       "</style>\n",
       "<table border=\"1\" class=\"dataframe\">\n",
       "  <thead>\n",
       "    <tr style=\"text-align: right;\">\n",
       "      <th></th>\n",
       "      <th>Name</th>\n",
       "      <th>Age</th>\n",
       "      <th>Phone</th>\n",
       "      <th>Email</th>\n",
       "    </tr>\n",
       "  </thead>\n",
       "  <tbody>\n",
       "    <tr>\n",
       "      <th>0</th>\n",
       "      <td>Alice</td>\n",
       "      <td>28</td>\n",
       "      <td>123-456</td>\n",
       "      <td>alice@email.com</td>\n",
       "    </tr>\n",
       "    <tr>\n",
       "      <th>1</th>\n",
       "      <td>Bob</td>\n",
       "      <td>34</td>\n",
       "      <td>456-789</td>\n",
       "      <td>bob@email.com</td>\n",
       "    </tr>\n",
       "    <tr>\n",
       "      <th>2</th>\n",
       "      <td>Charlie</td>\n",
       "      <td>45</td>\n",
       "      <td>789-012</td>\n",
       "      <td>charlie@email.com</td>\n",
       "    </tr>\n",
       "    <tr>\n",
       "      <th>4</th>\n",
       "      <td>Eva</td>\n",
       "      <td>23</td>\n",
       "      <td>345-678</td>\n",
       "      <td>eva@email.com</td>\n",
       "    </tr>\n",
       "  </tbody>\n",
       "</table>\n",
       "</div>"
      ],
      "text/plain": [
       "      Name  Age    Phone              Email\n",
       "0    Alice   28  123-456    alice@email.com\n",
       "1      Bob   34  456-789      bob@email.com\n",
       "2  Charlie   45  789-012  charlie@email.com\n",
       "4      Eva   23  345-678      eva@email.com"
      ]
     },
     "execution_count": 28,
     "metadata": {},
     "output_type": "execute_result"
    }
   ],
   "source": [
    "duplicate_df.drop_duplicates()"
   ]
  },
  {
   "cell_type": "markdown",
   "metadata": {},
   "source": [
    "### handling Fuzzy dupplicates"
   ]
  },
  {
   "cell_type": "code",
   "execution_count": 29,
   "metadata": {},
   "outputs": [
    {
     "data": {
      "text/html": [
       "<div>\n",
       "<style scoped>\n",
       "    .dataframe tbody tr th:only-of-type {\n",
       "        vertical-align: middle;\n",
       "    }\n",
       "\n",
       "    .dataframe tbody tr th {\n",
       "        vertical-align: top;\n",
       "    }\n",
       "\n",
       "    .dataframe thead th {\n",
       "        text-align: right;\n",
       "    }\n",
       "</style>\n",
       "<table border=\"1\" class=\"dataframe\">\n",
       "  <thead>\n",
       "    <tr style=\"text-align: right;\">\n",
       "      <th></th>\n",
       "      <th>First_Name</th>\n",
       "      <th>Last_Name</th>\n",
       "      <th>Age</th>\n",
       "      <th>Phone</th>\n",
       "      <th>Email</th>\n",
       "    </tr>\n",
       "  </thead>\n",
       "  <tbody>\n",
       "    <tr>\n",
       "      <th>0</th>\n",
       "      <td>Alice</td>\n",
       "      <td>Smith</td>\n",
       "      <td>28</td>\n",
       "      <td>123-456</td>\n",
       "      <td>alice@email.com</td>\n",
       "    </tr>\n",
       "    <tr>\n",
       "      <th>1</th>\n",
       "      <td>Alice</td>\n",
       "      <td>Smith</td>\n",
       "      <td>34</td>\n",
       "      <td>456-789</td>\n",
       "      <td>alice@smith.com</td>\n",
       "    </tr>\n",
       "    <tr>\n",
       "      <th>2</th>\n",
       "      <td>Alice</td>\n",
       "      <td>Smith</td>\n",
       "      <td>45</td>\n",
       "      <td>123-456</td>\n",
       "      <td>alice@theinternet.com</td>\n",
       "    </tr>\n",
       "    <tr>\n",
       "      <th>3</th>\n",
       "      <td>Alice</td>\n",
       "      <td>Smith</td>\n",
       "      <td>45</td>\n",
       "      <td>123-456</td>\n",
       "      <td>Alice@theinternet.com</td>\n",
       "    </tr>\n",
       "  </tbody>\n",
       "</table>\n",
       "</div>"
      ],
      "text/plain": [
       "  First_Name Last_Name  Age    Phone                  Email\n",
       "0      Alice     Smith   28  123-456        alice@email.com\n",
       "1      Alice     Smith   34  456-789        alice@smith.com\n",
       "2      Alice     Smith   45  123-456  alice@theinternet.com\n",
       "3      Alice     Smith   45  123-456  Alice@theinternet.com"
      ]
     },
     "execution_count": 29,
     "metadata": {},
     "output_type": "execute_result"
    }
   ],
   "source": [
    "data = {\n",
    "    'First_Name': ['Alice', 'Alice', 'Alice',  'Alice'],\n",
    "    'Last_Name': ['Smith', 'Smith', 'Smith', 'Smith'],\n",
    "    'Age': [28, 34, 45, 45],\n",
    "    'Phone': ['123-456', '456-789', '123-456', '123-456'],\n",
    "    'Email': ['alice@email.com', 'alice@smith.com', \n",
    "              'alice@theinternet.com',  'Alice@theinternet.com']\n",
    "}\n",
    "\n",
    "fuzzy_duplicates_df = pd.DataFrame(data)\n",
    "fuzzy_duplicates_df"
   ]
  },
  {
   "cell_type": "markdown",
   "metadata": {},
   "source": [
    "### Using GroupBy to Handle Duplicates"
   ]
  },
  {
   "cell_type": "code",
   "execution_count": 30,
   "metadata": {},
   "outputs": [
    {
     "data": {
      "text/html": [
       "<div>\n",
       "<style scoped>\n",
       "    .dataframe tbody tr th:only-of-type {\n",
       "        vertical-align: middle;\n",
       "    }\n",
       "\n",
       "    .dataframe tbody tr th {\n",
       "        vertical-align: top;\n",
       "    }\n",
       "\n",
       "    .dataframe thead th {\n",
       "        text-align: right;\n",
       "    }\n",
       "</style>\n",
       "<table border=\"1\" class=\"dataframe\">\n",
       "  <thead>\n",
       "    <tr style=\"text-align: right;\">\n",
       "      <th></th>\n",
       "      <th></th>\n",
       "      <th>ReviewScore</th>\n",
       "    </tr>\n",
       "    <tr>\n",
       "      <th>CustomerID</th>\n",
       "      <th>ProductID</th>\n",
       "      <th></th>\n",
       "    </tr>\n",
       "  </thead>\n",
       "  <tbody>\n",
       "    <tr>\n",
       "      <th>C01</th>\n",
       "      <th>101</th>\n",
       "      <td>4.5</td>\n",
       "    </tr>\n",
       "    <tr>\n",
       "      <th>C02</th>\n",
       "      <th>102</th>\n",
       "      <td>3.0</td>\n",
       "    </tr>\n",
       "    <tr>\n",
       "      <th>C03</th>\n",
       "      <th>103</th>\n",
       "      <td>4.0</td>\n",
       "    </tr>\n",
       "  </tbody>\n",
       "</table>\n",
       "</div>"
      ],
      "text/plain": [
       "                      ReviewScore\n",
       "CustomerID ProductID             \n",
       "C01        101                4.5\n",
       "C02        102                3.0\n",
       "C03        103                4.0"
      ]
     },
     "execution_count": 30,
     "metadata": {},
     "output_type": "execute_result"
    }
   ],
   "source": [
    "# Sample review data\n",
    "data = {\n",
    "    'CustomerID': ['C01', 'C01', 'C02', 'C02', 'C03'],\n",
    "    'ProductID': [101, 101, 102, 102, 103],\n",
    "    'ReviewScore': [4, 5, 3, 3, 4],\n",
    "    'CustomerEmail': ['customer1@email.com', 'customer1@domain.com', 'customer2@email.com', 'customer2@domain.com', 'customer3@email.com']\n",
    "}\n",
    "reviews_df = pd.DataFrame(data)\n",
    "\n",
    "# Grouping by CustomerID and ProductID, then taking the highest review score\n",
    "aggregated_reviews = reviews_df.groupby(['CustomerID', 'ProductID']).agg({'ReviewScore': 'mean'})\n",
    "\n",
    "aggregated_reviews\n"
   ]
  },
  {
   "cell_type": "markdown",
   "metadata": {},
   "source": [
    "### agg function"
   ]
  },
  {
   "cell_type": "code",
   "execution_count": 31,
   "metadata": {},
   "outputs": [
    {
     "name": "stdout",
     "output_type": "stream",
     "text": [
      "Original dataframe:\n",
      "   A  B\n",
      "0  1  2\n",
      "1  3  4\n",
      "\n",
      "Result of using the `agg` function with `sum`:\n"
     ]
    },
    {
     "data": {
      "text/plain": [
       "A    4\n",
       "B    6\n",
       "dtype: int64"
      ]
     },
     "execution_count": 31,
     "metadata": {},
     "output_type": "execute_result"
    }
   ],
   "source": [
    "df = pd.DataFrame([[1, 2], [3, 4]], columns=[\"A\", \"B\"])\n",
    "\n",
    "print(\"Original dataframe:\")\n",
    "print(df)\n",
    "# Applying a single aggregate function\n",
    "result = df.agg('sum')\n",
    "print(\"\\nResult of using the `agg` function with `sum`:\")\n",
    "result"
   ]
  },
  {
   "cell_type": "code",
   "execution_count": 32,
   "metadata": {},
   "outputs": [
    {
     "name": "stdout",
     "output_type": "stream",
     "text": [
      "Original dataframe:\n",
      "  Customer Name Postal Region\n",
      "0         Amina            UK\n",
      "1         Bahru       England\n",
      "2       Charlie         Wales\n",
      "3          Dion         Cymru\n",
      "4           Ebo      Scotland\n",
      "5         Frank           USA\n",
      "6         Giana        Canada\n"
     ]
    }
   ],
   "source": [
    "# Creating a sample dataframe\n",
    "data = {\n",
    "    'Customer Name': ['Amina', 'Bahru', 'Charlie', 'Dion', 'Ebo', 'Frank', 'Giana'],\n",
    "    'Postal Region': ['UK', 'England', 'Wales', 'Cymru', 'Scotland', 'USA', 'Canada']\n",
    "}\n",
    "df = pd.DataFrame(data)\n",
    "\n",
    "# Displaying the original dataframe\n",
    "print(\"Original dataframe:\")\n",
    "print(df)"
   ]
  },
  {
   "cell_type": "code",
   "execution_count": 33,
   "metadata": {},
   "outputs": [
    {
     "name": "stdout",
     "output_type": "stream",
     "text": [
      "\n",
      "DataFrame After Cleaning 'Postal Country' Column:\n",
      "  Customer Name   Postal Region\n",
      "0         Amina  United Kingdom\n",
      "1         Bahru  United Kingdom\n",
      "2       Charlie  United Kingdom\n",
      "3          Dion  United Kingdom\n",
      "4           Ebo  United Kingdom\n",
      "5         Frank             USA\n",
      "6         Giana          Canada\n"
     ]
    }
   ],
   "source": [
    "# Creating a mapping dictionary to unify the country names\n",
    "country_mapping = {\n",
    "    'UK': 'United Kingdom',\n",
    "    'England': 'United Kingdom',\n",
    "    'Wales': 'United Kingdom',\n",
    "    'Cymru': 'United Kingdom',\n",
    "    'Scotland': 'United Kingdom'\n",
    "}\n",
    "\n",
    "# Replacing the country names in the 'Postal Country' column\n",
    "df['Postal Region'] = df['Postal Region'].replace(country_mapping)\n",
    "\n",
    "# Displaying the DataFrame after cleaning the 'Postal Country' column\n",
    "print(\"\\nDataFrame After Cleaning 'Postal Country' Column:\")\n",
    "print(df)\n"
   ]
  },
  {
   "cell_type": "markdown",
   "metadata": {},
   "source": [
    "### Creating Categorical Columns from Continuous Data"
   ]
  },
  {
   "cell_type": "code",
   "execution_count": 34,
   "metadata": {},
   "outputs": [
    {
     "name": "stdout",
     "output_type": "stream",
     "text": [
      "Original dataframe:\n",
      "     Route  Distance\n",
      "0  NYC-LON      3461\n",
      "1  LON-PAR       214\n",
      "2  NYC-TOK      6749\n",
      "3  LON-SYD     10562\n",
      "4  PAR-BER       546\n",
      "\n",
      "dataframe with 'Flight Type' Column:\n",
      "     Route  Distance  Flight Type\n",
      "0  NYC-LON      3461  medium haul\n",
      "1  LON-PAR       214   short haul\n",
      "2  NYC-TOK      6749    long haul\n",
      "3  LON-SYD     10562    long haul\n",
      "4  PAR-BER       546   short haul\n"
     ]
    }
   ],
   "source": [
    "\n",
    "# Creating a sample dataframe\n",
    "data = {\n",
    "    'Route': ['NYC-LON', 'LON-PAR', 'NYC-TOK', 'LON-SYD', 'PAR-BER'],\n",
    "    'Distance': [3461, 214, 6749, 10562, 546]\n",
    "}\n",
    "flights = pd.DataFrame(data)\n",
    "\n",
    "# Displaying the original dataframe\n",
    "print(\"Original dataframe:\")\n",
    "print(flights)\n",
    "\n",
    "# Defining the bin edges and labels\n",
    "bin_edges = [0, 1500, 4000, 12000]  # in miles\n",
    "bin_labels = ['short haul', 'medium haul', 'long haul']\n",
    "\n",
    "# Creating a new categorical column 'Flight Type' by binning the 'Distance' column\n",
    "flights['Flight Type'] = pd.cut(flights['Distance'], bins=bin_edges, labels=bin_labels, right=False)\n",
    "\n",
    "# Displaying the dataframe with the new 'Flight Type' column\n",
    "print(\"\\ndataframe with 'Flight Type' Column:\")\n",
    "print(flights)"
   ]
  }
 ],
 "metadata": {
  "kernelspec": {
   "display_name": "internship",
   "language": "python",
   "name": "python3"
  },
  "language_info": {
   "codemirror_mode": {
    "name": "ipython",
    "version": 3
   },
   "file_extension": ".py",
   "mimetype": "text/x-python",
   "name": "python",
   "nbconvert_exporter": "python",
   "pygments_lexer": "ipython3",
   "version": "3.12.5"
  }
 },
 "nbformat": 4,
 "nbformat_minor": 2
}
