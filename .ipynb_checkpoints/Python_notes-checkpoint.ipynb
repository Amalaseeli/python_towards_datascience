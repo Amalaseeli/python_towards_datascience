{
 "cells": [
  {
   "cell_type": "markdown",
   "id": "4ee4ee6d-6171-4a3c-90bc-fb74ff762823",
   "metadata": {},
   "source": [
    "## Python\n",
    "- Python is a high-level programming language\n",
    "- It is an interpreting language, that runs code line by line\n",
    "- Python is the language for building AI and data applications."
   ]
  },
  {
   "cell_type": "markdown",
   "id": "b5dd3a9b-37bd-4e18-8da2-bd5bb94859af",
   "metadata": {},
   "source": [
    "### Google Colab\n",
    "- Google Colab builds upon the capabilities of Jupyter Notebook by offering a cloud-based platform\n",
    "   This means you don't need to worry about installing any software or setting up complex environments on your local machine. All you need is a web browser, and you can start coding in Python right away.\n",
    "\n",
    "### Benifits of Google Colab\n",
    "1. **Cloud-Based Environment:**  With Google Colab, your code and data reside in the cloud, which means you can access and work on your projects from anywhere with an internet connection\n",
    "2. **Free Access to Computing Resources**\n",
    "3. **Pre-installed Libraries and Dependencies**\n",
    "4. **Interactive Execution and Visualization:** You can write code in Colab using code cells. These cells can be executed individually or all at once, making it easy to experiment and visualize the output in real time.\n",
    "5. **Integration with Google Drive**"
   ]
  },
  {
   "cell_type": "markdown",
   "id": "08fb54ac-9849-4251-bcdf-4b74f3f08654",
   "metadata": {},
   "source": [
    "### Comments\n",
    "Comments in Python are non-executable lines of text that provide explanations or annotations within your code\n",
    "- Why do We use comments?\n",
    "1. Code Documentation\n",
    "2. Code Readability\n",
    "3. Debugging and Troubleshooting\n",
    "   \n",
    "- Single line comments\n",
    "   Begin with the # symbol\n"
   ]
  },
  {
   "cell_type": "markdown",
   "id": "9b352ac4-3311-4884-9645-24a3f05209c7",
   "metadata": {},
   "source": [
    "### Data types\n",
    "- Number\n",
    "   - **Integer**: whole number\n",
    "   - **Float**:Decimal\n",
    "   - **Complex number**:Consist of real part and imaginary part\n",
    "- String\n",
    "- Boolean\n",
    "- Dictionary\n",
    "- Sets\n",
    "- Tuples"
   ]
  },
  {
   "cell_type": "markdown",
   "id": "8a58109d-6bb5-411e-8f58-9f98fa885bf9",
   "metadata": {},
   "source": [
    "### Numbers"
   ]
  },
  {
   "cell_type": "markdown",
   "id": "7d16b66a-f98b-4da6-84a8-9c39097a1f09",
   "metadata": {},
   "source": [
    "### Basic Arithmetic operations\n",
    "- Add\n",
    "- Subtract\n",
    "- Division\n",
    "- Multiplication\n",
    "- Modulo\n",
    "- Exponentiation"
   ]
  },
  {
   "cell_type": "markdown",
   "id": "d397853f-2bd8-4714-8ae3-1bb4af218d19",
   "metadata": {},
   "source": [
    "### Order of operation\n",
    "- Parenthesis\n",
    "- Exponentiation\n",
    "- Multiplication, Division, Modulo\n",
    "- Addition, Subtraction\n",
    "\n",
    "\n",
    "\n",
    "\n"
   ]
  },
  {
   "cell_type": "markdown",
   "id": "2bffd8b0-2e1e-475f-9a2b-47e8cd97db3c",
   "metadata": {},
   "source": [
    "### Integer Division and Floor Division\n",
    "- **Division(/)**: Normal Division.  For example, 10 / 3 returns 3.3333333333333335.\n",
    "- **Floor Division**: It discards the decimal part and provides an integer result.For example, 10 // 3 returns 3."
   ]
  },
  {
   "cell_type": "markdown",
   "id": "3a4e76c9-0b81-4141-acbe-2c6a458bb4a8",
   "metadata": {},
   "source": [
    "### Type conversion or casting\n",
    "#### Converting between integers float data types"
   ]
  },
  {
   "cell_type": "code",
   "execution_count": 1,
   "id": "b6c92109-02cc-49e4-9c5f-bcc6ed2e8a56",
   "metadata": {},
   "outputs": [
    {
     "data": {
      "text/plain": [
       "5.0"
      ]
     },
     "execution_count": 1,
     "metadata": {},
     "output_type": "execute_result"
    }
   ],
   "source": [
    "x=5\n",
    "float_val=float(x)\n",
    "float_val"
   ]
  },
  {
   "cell_type": "code",
   "execution_count": 2,
   "id": "249490d7-6c11-405e-be54-4123d4095c71",
   "metadata": {},
   "outputs": [
    {
     "data": {
      "text/plain": [
       "4"
      ]
     },
     "execution_count": 2,
     "metadata": {},
     "output_type": "execute_result"
    }
   ],
   "source": [
    "y=4.6\n",
    "int_val=int(y)\n",
    "int_val"
   ]
  },
  {
   "cell_type": "markdown",
   "id": "017c375d-dfdb-4dea-8294-9589d243780e",
   "metadata": {},
   "source": [
    "### Floating point Precision and Limitationss"
   ]
  },
  {
   "cell_type": "code",
   "execution_count": 8,
   "id": "68e01f83-02fc-405d-a16f-1eaa8fe18416",
   "metadata": {},
   "outputs": [
    {
     "data": {
      "text/plain": [
       "0.30000000000000004"
      ]
     },
     "execution_count": 8,
     "metadata": {},
     "output_type": "execute_result"
    }
   ],
   "source": [
    "0.1+0.1+0.1 # Expected output is 0.3"
   ]
  },
  {
   "cell_type": "markdown",
   "id": "b2ffc354-195b-4d8b-8e0e-767aa097785c",
   "metadata": {},
   "source": [
    "#### handle floating-point precision errors\n",
    "- Avoid Comparing for Exact Equality\n",
    "- Consider Rounding"
   ]
  },
  {
   "cell_type": "code",
   "execution_count": 9,
   "id": "ced4fc73-b2ed-4524-804b-a3cba6904572",
   "metadata": {},
   "outputs": [
    {
     "name": "stdout",
     "output_type": "stream",
     "text": [
      "0.30000000000000004\n",
      "0.3\n"
     ]
    }
   ],
   "source": [
    "x=0.1+0.1+0.1\n",
    "print(x)\n",
    "rounded_x=round(x,2)\n",
    "print(rounded_x)"
   ]
  },
  {
   "cell_type": "markdown",
   "id": "1fed9b38-62c2-456e-be8d-717d20f4c696",
   "metadata": {},
   "source": [
    "### None type vs zero\n",
    "- **None**: Absence of value\n",
    "- **Zero**:Is a numeric value and represents integer value 0\n",
    "   "
   ]
  },
  {
   "cell_type": "code",
   "execution_count": 10,
   "id": "a09e5cd7-2e81-4eb3-99aa-e7ac77b3cacc",
   "metadata": {},
   "outputs": [
    {
     "data": {
      "text/plain": [
       "NoneType"
      ]
     },
     "execution_count": 10,
     "metadata": {},
     "output_type": "execute_result"
    }
   ],
   "source": [
    "x=None\n",
    "type(x)"
   ]
  },
  {
   "cell_type": "code",
   "execution_count": 11,
   "id": "4ea88ac6-ddf7-4edb-a5c0-77e187092073",
   "metadata": {},
   "outputs": [
    {
     "data": {
      "text/plain": [
       "int"
      ]
     },
     "execution_count": 11,
     "metadata": {},
     "output_type": "execute_result"
    }
   ],
   "source": [
    "y=0\n",
    "type(y)"
   ]
  },
  {
   "cell_type": "markdown",
   "id": "c89a7e8c-0bc3-49c9-b652-b48cbc2faf17",
   "metadata": {},
   "source": [
    "### Strings\n",
    "Sequence of characters enclosed in either single quotes ('') or double quotes (\"\")"
   ]
  },
  {
   "cell_type": "code",
   "execution_count": 12,
   "id": "35a9b231-1273-429c-9654-cb3994761046",
   "metadata": {},
   "outputs": [],
   "source": [
    "my_string=\"Hello World\""
   ]
  },
  {
   "cell_type": "code",
   "execution_count": 13,
   "id": "763658e2-c00e-48f2-81e7-894ba0de3978",
   "metadata": {},
   "outputs": [
    {
     "name": "stdout",
     "output_type": "stream",
     "text": [
      "Hello World\n"
     ]
    }
   ],
   "source": [
    "print(my_string)"
   ]
  },
  {
   "cell_type": "code",
   "execution_count": 14,
   "id": "fa8059f4-2c98-45cb-a1cf-318fcb0a8abe",
   "metadata": {},
   "outputs": [
    {
     "data": {
      "text/plain": [
       "str"
      ]
     },
     "execution_count": 14,
     "metadata": {},
     "output_type": "execute_result"
    }
   ],
   "source": [
    "type(my_string)"
   ]
  },
  {
   "cell_type": "code",
   "execution_count": 15,
   "id": "ea26c8a7-73a1-48b4-aca7-f67b926ac3ec",
   "metadata": {},
   "outputs": [
    {
     "name": "stdout",
     "output_type": "stream",
     "text": [
      "Hello \n",
      "World\n"
     ]
    }
   ],
   "source": [
    "my_string=\"Hello \\nWorld\"\n",
    "print(my_string)"
   ]
  },
  {
   "cell_type": "code",
   "execution_count": 16,
   "id": "822b2631-e615-44c8-a701-ab115e5788c2",
   "metadata": {},
   "outputs": [
    {
     "name": "stdout",
     "output_type": "stream",
     "text": [
      "Hello \tWorld\n"
     ]
    }
   ],
   "source": [
    "my_string=\"Hello \\tWorld\"\n",
    "print(my_string)"
   ]
  },
  {
   "cell_type": "code",
   "execution_count": 17,
   "id": "e2000ceb-f8c5-4d55-b8d9-be66293cf890",
   "metadata": {},
   "outputs": [
    {
     "ename": "SyntaxError",
     "evalue": "invalid syntax (101243167.py, line 1)",
     "output_type": "error",
     "traceback": [
      "\u001b[1;36m  Cell \u001b[1;32mIn[17], line 1\u001b[1;36m\u001b[0m\n\u001b[1;33m    my_string=\"Hello \"World\"\u001b[0m\n\u001b[1;37m                      ^\u001b[0m\n\u001b[1;31mSyntaxError\u001b[0m\u001b[1;31m:\u001b[0m invalid syntax\n"
     ]
    }
   ],
   "source": [
    "my_string=\"Hello \"World\"\n",
    "print(my_string)"
   ]
  },
  {
   "cell_type": "code",
   "execution_count": 18,
   "id": "7b622f52-b5be-4666-a158-9687420d27da",
   "metadata": {},
   "outputs": [
    {
     "data": {
      "text/plain": [
       "\"Hello 'World'\""
      ]
     },
     "execution_count": 18,
     "metadata": {},
     "output_type": "execute_result"
    }
   ],
   "source": [
    "my_string=\"Hello 'World'\"\n",
    "my_string"
   ]
  },
  {
   "cell_type": "code",
   "execution_count": 20,
   "id": "db6e6873-c34b-4ef6-8a24-264008ed5196",
   "metadata": {},
   "outputs": [
    {
     "ename": "SyntaxError",
     "evalue": "EOL while scanning string literal (2655889682.py, line 1)",
     "output_type": "error",
     "traceback": [
      "\u001b[1;36m  Cell \u001b[1;32mIn[20], line 1\u001b[1;36m\u001b[0m\n\u001b[1;33m    my_string=\"Hello \\\"World\"\"\u001b[0m\n\u001b[1;37m                              ^\u001b[0m\n\u001b[1;31mSyntaxError\u001b[0m\u001b[1;31m:\u001b[0m EOL while scanning string literal\n"
     ]
    }
   ],
   "source": [
    "my_string=\"Hello \\\"World\"\"\n",
    "my_string"
   ]
  },
  {
   "cell_type": "markdown",
   "id": "387a854e-243e-4a50-9675-b8039728de74",
   "metadata": {},
   "source": [
    "#### String concatenation\n"
   ]
  },
  {
   "cell_type": "code",
   "execution_count": 22,
   "id": "cec4347f-a254-4708-aacb-a63d2a9aecda",
   "metadata": {},
   "outputs": [
    {
     "data": {
      "text/plain": [
       "'Amalaseeli Remiyan'"
      ]
     },
     "execution_count": 22,
     "metadata": {},
     "output_type": "execute_result"
    }
   ],
   "source": [
    "first_name='Amalaseeli'\n",
    "Last_name=\"Remiyan\"\n",
    "Full_name=first_name + \" \"+ Last_name\n",
    "Full_name"
   ]
  },
  {
   "cell_type": "markdown",
   "id": "3ccac49f-4d97-422e-857f-1a0a69c82ae6",
   "metadata": {},
   "source": [
    "### String indexing and slicing\n",
    "- **Index**: Starts at 0\n",
    "- **Slicing**: Allows you to create a new string that includes a specified range of characters from the original string."
   ]
  },
  {
   "cell_type": "code",
   "execution_count": 23,
   "id": "9d26592d-b5a7-4d1e-87d3-9b13e7781943",
   "metadata": {},
   "outputs": [
    {
     "name": "stdout",
     "output_type": "stream",
     "text": [
      "H\n",
      "W\n"
     ]
    }
   ],
   "source": [
    "#indexing\n",
    "message = \"Hello, World!\"\n",
    "print(message[0])  # Output: H\n",
    "print(message[7])  # Output: W"
   ]
  },
  {
   "cell_type": "code",
   "execution_count": 24,
   "id": "c411de5e-e956-4e80-881d-887089dc14c9",
   "metadata": {},
   "outputs": [
    {
     "name": "stdout",
     "output_type": "stream",
     "text": [
      "Hello\n",
      "World\n"
     ]
    }
   ],
   "source": [
    "#Slcing\n",
    "message = \"Hello, World!\"\n",
    "print(message[0:5])  # Output: Hello\n",
    "print(message[7:12])  # Output: World"
   ]
  },
  {
   "cell_type": "code",
   "execution_count": 25,
   "id": "2c48cb23-a31d-4d10-ab28-43bcf55780cf",
   "metadata": {},
   "outputs": [
    {
     "name": "stdout",
     "output_type": "stream",
     "text": [
      "Hello\n"
     ]
    }
   ],
   "source": [
    "#Slicing from the beginning\n",
    "text = \"Hello, World!\"\n",
    "print(text[:5])  \n",
    "# Output: \"Hello\""
   ]
  },
  {
   "cell_type": "code",
   "execution_count": 26,
   "id": "b05cec83-0929-465a-af41-0cf6db39b357",
   "metadata": {},
   "outputs": [
    {
     "name": "stdout",
     "output_type": "stream",
     "text": [
      "World!\n"
     ]
    }
   ],
   "source": [
    "#Slicing to the end\n",
    "text = \"Hello, World!\"\n",
    "print(text[7:])  \n",
    "# Output: \"World!\""
   ]
  },
  {
   "cell_type": "markdown",
   "id": "2930c4a7-2b2b-4ab7-9b95-f808b31a1e72",
   "metadata": {},
   "source": [
    "#### Slicing with step value"
   ]
  },
  {
   "cell_type": "code",
   "execution_count": 27,
   "id": "54a65a28-9cfa-4487-a015-5145990ee334",
   "metadata": {},
   "outputs": [
    {
     "name": "stdout",
     "output_type": "stream",
     "text": [
      "Hlo ol!\n"
     ]
    }
   ],
   "source": [
    "text = \"Hello, World!\"\n",
    "print(text[::2])  \n",
    "# Output: \"Hlo ol!\""
   ]
  },
  {
   "cell_type": "code",
   "execution_count": 28,
   "id": "860a9e78-6e56-494d-b227-10eff9048836",
   "metadata": {},
   "outputs": [
    {
     "name": "stdout",
     "output_type": "stream",
     "text": [
      "el,Wr\n"
     ]
    }
   ],
   "source": [
    "text = \"Hello, World!\"\n",
    "print(text[1:10:2])\n",
    "# Output: \"el,Wr\""
   ]
  },
  {
   "cell_type": "markdown",
   "id": "e2559907-10be-42b8-ab92-e8c21ac7a1c0",
   "metadata": {},
   "source": [
    "### Common indexing and slicing errors\n",
    "- Index Out of Range\n",
    "- Using a Floating-Point Index\n",
    "- Slicing with Invalid Step"
   ]
  },
  {
   "cell_type": "code",
   "execution_count": 29,
   "id": "a32c09a4-2cea-4b3f-8e4c-8a402b1df2ea",
   "metadata": {},
   "outputs": [
    {
     "ename": "IndexError",
     "evalue": "string index out of range",
     "output_type": "error",
     "traceback": [
      "\u001b[1;31m---------------------------------------------------------------------------\u001b[0m",
      "\u001b[1;31mIndexError\u001b[0m                                Traceback (most recent call last)",
      "Cell \u001b[1;32mIn[29], line 2\u001b[0m\n\u001b[0;32m      1\u001b[0m text \u001b[38;5;241m=\u001b[39m \u001b[38;5;124m\"\u001b[39m\u001b[38;5;124mHello, World!\u001b[39m\u001b[38;5;124m\"\u001b[39m\n\u001b[1;32m----> 2\u001b[0m \u001b[38;5;28mprint\u001b[39m(\u001b[43mtext\u001b[49m\u001b[43m[\u001b[49m\u001b[38;5;241;43m20\u001b[39;49m\u001b[43m]\u001b[49m)\n",
      "\u001b[1;31mIndexError\u001b[0m: string index out of range"
     ]
    }
   ],
   "source": [
    "text = \"Hello, World!\"\n",
    "print(text[20])"
   ]
  },
  {
   "cell_type": "code",
   "execution_count": 30,
   "id": "9fe9a941-4643-48b2-8944-d43f4ce5e639",
   "metadata": {},
   "outputs": [
    {
     "ename": "TypeError",
     "evalue": "string indices must be integers",
     "output_type": "error",
     "traceback": [
      "\u001b[1;31m---------------------------------------------------------------------------\u001b[0m",
      "\u001b[1;31mTypeError\u001b[0m                                 Traceback (most recent call last)",
      "Cell \u001b[1;32mIn[30], line 2\u001b[0m\n\u001b[0;32m      1\u001b[0m text \u001b[38;5;241m=\u001b[39m \u001b[38;5;124m\"\u001b[39m\u001b[38;5;124mHello, World!\u001b[39m\u001b[38;5;124m\"\u001b[39m\n\u001b[1;32m----> 2\u001b[0m \u001b[38;5;28mprint\u001b[39m(\u001b[43mtext\u001b[49m\u001b[43m[\u001b[49m\u001b[38;5;241;43m2.5\u001b[39;49m\u001b[43m]\u001b[49m)\n",
      "\u001b[1;31mTypeError\u001b[0m: string indices must be integers"
     ]
    }
   ],
   "source": [
    "text = \"Hello, World!\"\n",
    "print(text[2.5])"
   ]
  },
  {
   "cell_type": "code",
   "execution_count": 31,
   "id": "3e6d6f40-3d31-45f2-96e6-e04980266086",
   "metadata": {},
   "outputs": [
    {
     "ename": "ValueError",
     "evalue": "slice step cannot be zero",
     "output_type": "error",
     "traceback": [
      "\u001b[1;31m---------------------------------------------------------------------------\u001b[0m",
      "\u001b[1;31mValueError\u001b[0m                                Traceback (most recent call last)",
      "Cell \u001b[1;32mIn[31], line 2\u001b[0m\n\u001b[0;32m      1\u001b[0m text \u001b[38;5;241m=\u001b[39m \u001b[38;5;124m\"\u001b[39m\u001b[38;5;124mHello, World!\u001b[39m\u001b[38;5;124m\"\u001b[39m\n\u001b[1;32m----> 2\u001b[0m \u001b[38;5;28mprint\u001b[39m(\u001b[43mtext\u001b[49m\u001b[43m[\u001b[49m\u001b[43m:\u001b[49m\u001b[43m:\u001b[49m\u001b[38;5;241;43m0\u001b[39;49m\u001b[43m]\u001b[49m)\n",
      "\u001b[1;31mValueError\u001b[0m: slice step cannot be zero"
     ]
    }
   ],
   "source": [
    "text = \"Hello, World!\"\n",
    "print(text[::0])"
   ]
  },
  {
   "cell_type": "markdown",
   "id": "5d13c0f7-9f87-4570-a4a7-d41dc616fdee",
   "metadata": {},
   "source": [
    "### String Methods\n",
    "- **upper()**: Converts all characters in a string to uppercase\n",
    "- **lower()**: Converts all characters in a string to lowercase\n",
    "- **capitalize()**: Capitalizes the first character of a string and converts the remaining characters to lowercase\n",
    "- **title()**: Capitalizes the first character of each word in a string\n",
    "- **strip()**: Removes leading and trailing whitespace from a string\n",
    "- **replace(old, new)**: Replaces all occurrences of a specified substring with a new substring\n",
    "- **split(separator)**: Splits a string into a list of substrings based on a specified separator\r\n"
   ]
  },
  {
   "cell_type": "code",
   "execution_count": 32,
   "id": "42329d30-f8af-4df4-a944-8aec55aee267",
   "metadata": {},
   "outputs": [
    {
     "name": "stdout",
     "output_type": "stream",
     "text": [
      "HELLO, WORLD!\n"
     ]
    }
   ],
   "source": [
    "message = \"Hello, World!\"\n",
    "print(message.upper()) "
   ]
  },
  {
   "cell_type": "code",
   "execution_count": 33,
   "id": "352b84ef-bb02-4fa6-898f-b3001c3e47fc",
   "metadata": {},
   "outputs": [
    {
     "name": "stdout",
     "output_type": "stream",
     "text": [
      "hello, world!\n"
     ]
    }
   ],
   "source": [
    "message = \"Hello, World!\"\n",
    "print(message.lower())"
   ]
  },
  {
   "cell_type": "code",
   "execution_count": 34,
   "id": "b6070e18-fcbe-4cfc-89dc-f777e923a42f",
   "metadata": {},
   "outputs": [
    {
     "name": "stdout",
     "output_type": "stream",
     "text": [
      "Hello, world!\n"
     ]
    }
   ],
   "source": [
    "message = \"hello, world!\"\n",
    "print(message.capitalize())"
   ]
  },
  {
   "cell_type": "code",
   "execution_count": 36,
   "id": "c2ac8d20-aa84-45b8-9f39-9564038e2741",
   "metadata": {},
   "outputs": [
    {
     "name": "stdout",
     "output_type": "stream",
     "text": [
      "Hello, World!\n"
     ]
    }
   ],
   "source": [
    "message = \"hello, world!\"\n",
    "print(message.title())"
   ]
  },
  {
   "cell_type": "code",
   "execution_count": 37,
   "id": "de6c30b9-df26-4344-9892-4c8ca5526889",
   "metadata": {
    "scrolled": true
   },
   "outputs": [
    {
     "data": {
      "text/plain": [
       "'Hello, World!'"
      ]
     },
     "execution_count": 37,
     "metadata": {},
     "output_type": "execute_result"
    }
   ],
   "source": [
    "message=\"   Hello, World!\"\n",
    "message.strip()"
   ]
  },
  {
   "cell_type": "code",
   "execution_count": 45,
   "id": "ebb3ea80-ae9c-4d07-bd28-b4a0b29550db",
   "metadata": {},
   "outputs": [
    {
     "data": {
      "text/plain": [
       "'Hello, Python!'"
      ]
     },
     "execution_count": 45,
     "metadata": {},
     "output_type": "execute_result"
    }
   ],
   "source": [
    "message = \"Hello, World!\"\n",
    "new_message=message.replace(\"World\",\"Python\")\n",
    "new_message"
   ]
  },
  {
   "cell_type": "code",
   "execution_count": 46,
   "id": "4115605a-6622-4f5f-8154-d648b4637737",
   "metadata": {},
   "outputs": [
    {
     "name": "stdout",
     "output_type": "stream",
     "text": [
      "['Hello', ' World!']\n"
     ]
    }
   ],
   "source": [
    "message = \"Hello, World!\"\n",
    "split_message = message.split(\",\")\n",
    "print(split_message)"
   ]
  },
  {
   "cell_type": "markdown",
   "id": "ed729613-46a7-40ff-87e9-f8a7f6ee605e",
   "metadata": {},
   "source": [
    "### String Formatting\n",
    "- **Using the %operator**: This approach is known as \"old-style\" string formatting and involves using placeholders (%s, %d, %f, etc.) to specify where values should be inserted within a string\n",
    "- **Using the format() method**: This approach involves using curly braces {} as placeholders and calling the format() method on the string to specify the values to be inserted\n",
    "- **Using f-strings (formatted string literals)**: This is a newer and more concise approach introduced in Python 3.6. It allows you to embed expressions directly within curly braces {} in the string"
   ]
  },
  {
   "cell_type": "code",
   "execution_count": 49,
   "id": "bf2a5b1a-9270-48ff-ac4a-db6cc9824303",
   "metadata": {},
   "outputs": [
    {
     "name": "stdout",
     "output_type": "stream",
     "text": [
      "My name is John and I am 30 years old.\n"
     ]
    }
   ],
   "source": [
    "Name=\"John\"\n",
    "age=30\n",
    "print(\"My name is %s and I am %d years old.\"%(Name,age))"
   ]
  },
  {
   "cell_type": "code",
   "execution_count": 51,
   "id": "8e26fdf5-ab63-4321-b018-5ccded1e7631",
   "metadata": {},
   "outputs": [
    {
     "name": "stdout",
     "output_type": "stream",
     "text": [
      "My name is John and I am 30 years old.\n"
     ]
    }
   ],
   "source": [
    "Name=\"John\"\n",
    "age=30\n",
    "print(\"My name is {} and I am {} years old.\".format(Name,age))"
   ]
  },
  {
   "cell_type": "code",
   "execution_count": 53,
   "id": "a69fd7b0-b5fd-4937-85d7-2cb9648ca79a",
   "metadata": {},
   "outputs": [
    {
     "name": "stdout",
     "output_type": "stream",
     "text": [
      "My name is John and I am 30 years old.\n"
     ]
    }
   ],
   "source": [
    "name = \"John\"\n",
    "age = 30\n",
    "print(f\"My name is {name} and I am {age} years old.\")"
   ]
  },
  {
   "cell_type": "markdown",
   "id": "6607cbb0-63c5-4f6c-b9af-312aecfa9512",
   "metadata": {},
   "source": [
    "### String Escape sequences\n",
    "- **`\\n`**: New line\n",
    "- **`\\t`**: tab\n",
    "- **`\\\\`**: Represents a backslash character\n",
    "- **`\\\" or \\'`**: Represents a double quote or a single quote character, respectively, and is used to include these characters within a string when using the corresponding quotation marks"
   ]
  },
  {
   "cell_type": "code",
   "execution_count": 54,
   "id": "739e038d-b9c8-4bef-82b8-2c237e7608ea",
   "metadata": {},
   "outputs": [
    {
     "name": "stdout",
     "output_type": "stream",
     "text": [
      "Hello\n",
      "world\n"
     ]
    }
   ],
   "source": [
    "print(\"Hello\\nworld\")"
   ]
  },
  {
   "cell_type": "code",
   "execution_count": 55,
   "id": "6cdf469c-c5d0-4b58-b21b-a2bab2952370",
   "metadata": {},
   "outputs": [
    {
     "name": "stdout",
     "output_type": "stream",
     "text": [
      "Hello\tworld\n"
     ]
    }
   ],
   "source": [
    "print(\"Hello\\tworld\")"
   ]
  },
  {
   "cell_type": "code",
   "execution_count": 57,
   "id": "cbd90c29-4869-4ed2-94cf-493c6f48893a",
   "metadata": {},
   "outputs": [
    {
     "name": "stdout",
     "output_type": "stream",
     "text": [
      "Hello\\\\world\n"
     ]
    }
   ],
   "source": [
    "print(\"Helloworld\")"
   ]
  },
  {
   "cell_type": "code",
   "execution_count": 58,
   "id": "ce7d35b7-f2b8-4c18-8b0a-95a3a2d6bb96",
   "metadata": {},
   "outputs": [
    {
     "name": "stdout",
     "output_type": "stream",
     "text": [
      "This is a backslash: \\\n"
     ]
    }
   ],
   "source": [
    "print(\"This is a backslash: \\\\\")\n"
   ]
  },
  {
   "cell_type": "code",
   "execution_count": 59,
   "id": "5661c17f-6a43-4c1e-9ee9-340a3aeb3e2d",
   "metadata": {},
   "outputs": [
    {
     "name": "stdout",
     "output_type": "stream",
     "text": [
      "She said, \"Hello!\"\n"
     ]
    }
   ],
   "source": [
    "print(\"She said, \\\"Hello!\\\"\")\n"
   ]
  },
  {
   "cell_type": "markdown",
   "id": "ba891f63-1650-4b7b-9517-e47837b92d7b",
   "metadata": {},
   "source": [
    "### length of the string"
   ]
  },
  {
   "cell_type": "code",
   "execution_count": 60,
   "id": "a4da28a1-a910-43e4-b2ee-920fecbc8c1d",
   "metadata": {},
   "outputs": [
    {
     "name": "stdout",
     "output_type": "stream",
     "text": [
      "The length of the string is: 13\n"
     ]
    }
   ],
   "source": [
    "message = \"Hello, World!\"\n",
    "length = len(message)\n",
    "print(\"The length of the string is:\", length)"
   ]
  },
  {
   "cell_type": "markdown",
   "id": "6744e324-9b9a-43ef-b720-f63eb14945bd",
   "metadata": {},
   "source": [
    "###  Converting other data types to strings"
   ]
  },
  {
   "cell_type": "code",
   "execution_count": 62,
   "id": "0c280c68-c7a1-4802-9ca2-ca35fef241d0",
   "metadata": {},
   "outputs": [
    {
     "data": {
      "text/plain": [
       "'5'"
      ]
     },
     "execution_count": 62,
     "metadata": {},
     "output_type": "execute_result"
    }
   ],
   "source": [
    "x=5\n",
    "y=str(x)\n",
    "y"
   ]
  },
  {
   "cell_type": "code",
   "execution_count": 63,
   "id": "acb9484d-917b-4a40-8996-2854a2c1936e",
   "metadata": {},
   "outputs": [
    {
     "data": {
      "text/plain": [
       "str"
      ]
     },
     "execution_count": 63,
     "metadata": {},
     "output_type": "execute_result"
    }
   ],
   "source": [
    "type(y)"
   ]
  },
  {
   "cell_type": "code",
   "execution_count": 64,
   "id": "803bb912-3c14-4660-a84e-dfc6c56506c1",
   "metadata": {},
   "outputs": [
    {
     "data": {
      "text/plain": [
       "'55555'"
      ]
     },
     "execution_count": 64,
     "metadata": {},
     "output_type": "execute_result"
    }
   ],
   "source": [
    "y*5"
   ]
  },
  {
   "cell_type": "code",
   "execution_count": null,
   "id": "2d51e510-faab-4f1f-878f-bd5cab351bb3",
   "metadata": {},
   "outputs": [],
   "source": []
  }
 ],
 "metadata": {
  "kernelspec": {
   "display_name": "Python 3 (ipykernel)",
   "language": "python",
   "name": "python3"
  },
  "language_info": {
   "codemirror_mode": {
    "name": "ipython",
    "version": 3
   },
   "file_extension": ".py",
   "mimetype": "text/x-python",
   "name": "python",
   "nbconvert_exporter": "python",
   "pygments_lexer": "ipython3",
   "version": "3.9.19"
  }
 },
 "nbformat": 4,
 "nbformat_minor": 5
}
