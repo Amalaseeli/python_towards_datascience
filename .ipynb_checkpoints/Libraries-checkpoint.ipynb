{
 "cells": [
  {
   "cell_type": "markdown",
   "id": "2cf4676b-dad7-4e26-ae00-59ca7bff8e9a",
   "metadata": {},
   "source": [
    "# Python library for Datascience\n"
   ]
  },
  {
   "cell_type": "markdown",
   "id": "ee7ad2ad-2423-4588-a0b6-3bec69a44460",
   "metadata": {},
   "source": [
    "- Pandas\n",
    "- Numpy\n",
    "- PyTorch\n",
    "- Seaborn\n",
    "- Matplotlib\n",
    "- Scikit Learn\n"
   ]
  },
  {
   "cell_type": "markdown",
   "id": "fc31b8b1-2dfb-43bf-b719-4ec3807e719a",
   "metadata": {},
   "source": [
    "### Pandas"
   ]
  },
  {
   "cell_type": "markdown",
   "id": "72629df2-ed9f-4cdc-a609-4732a5df1c5f",
   "metadata": {},
   "source": [
    "Panda is an open-source library that helps to read different kinds of data sources. So basically can retrieve data and do data manipulation and analysis.\n"
   ]
  },
  {
   "cell_type": "markdown",
   "id": "000de170-ef28-488d-a3e7-392d95f3abb4",
   "metadata": {},
   "source": [
    "### Numpy"
   ]
  },
  {
   "cell_type": "markdown",
   "id": "c99f1937-7a67-428c-b913-758441ff52d0",
   "metadata": {},
   "source": [
    "Used to Create multi dimensional array and performs mathematical operations on array"
   ]
  },
  {
   "cell_type": "markdown",
   "id": "9be5593c-460c-4b2a-9fe5-1f6dfc5bda5f",
   "metadata": {},
   "source": [
    "### Pytorch\n"
   ]
  },
  {
   "cell_type": "code",
   "execution_count": null,
   "id": "87516acf-9d72-4c9a-b6de-713248c2dcd0",
   "metadata": {},
   "outputs": [],
   "source": [
    "Used to build a deep learning models"
   ]
  },
  {
   "cell_type": "markdown",
   "id": "3048bbc9-bf47-4084-897b-f0b34f69bd06",
   "metadata": {},
   "source": [
    "### Seaborn"
   ]
  },
  {
   "cell_type": "markdown",
   "id": "415bbdd6-8849-4e9b-9dfd-1df808f17bb8",
   "metadata": {},
   "source": [
    "- Visualization library\n",
    "- Making statistical graph in python"
   ]
  },
  {
   "cell_type": "markdown",
   "id": "a3d83d1a-5941-4257-9af4-97413b290452",
   "metadata": {},
   "source": [
    "### Matplotlib"
   ]
  },
  {
   "cell_type": "markdown",
   "id": "b9b904b1-5362-4713-95a4-09b9eefc3bcd",
   "metadata": {},
   "source": [
    " creating static, animated, and interactive visualizations in Python. "
   ]
  },
  {
   "cell_type": "markdown",
   "id": "7441b5f6-dec8-4a4f-a89a-bd524b0db6c0",
   "metadata": {},
   "source": [
    "### Scikit Learn"
   ]
  },
  {
   "cell_type": "markdown",
   "id": "27d87e3a-cd80-4fcb-b362-decb09821981",
   "metadata": {},
   "source": [
    "Contain most of the machine learning algorithm such as supervised learning, unsupervised learning.Also provides various tools for model fitting,data processing ,model selection,model evaluation ,etc."
   ]
  },
  {
   "cell_type": "code",
   "execution_count": null,
   "id": "dbe4c9f6-5e6e-4eae-972b-937efd9806ad",
   "metadata": {},
   "outputs": [],
   "source": []
  }
 ],
 "metadata": {
  "kernelspec": {
   "display_name": "Python 3 (ipykernel)",
   "language": "python",
   "name": "python3"
  },
  "language_info": {
   "codemirror_mode": {
    "name": "ipython",
    "version": 3
   },
   "file_extension": ".py",
   "mimetype": "text/x-python",
   "name": "python",
   "nbconvert_exporter": "python",
   "pygments_lexer": "ipython3",
   "version": "3.9.19"
  }
 },
 "nbformat": 4,
 "nbformat_minor": 5
}
