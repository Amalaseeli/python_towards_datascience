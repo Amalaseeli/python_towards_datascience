{
 "cells": [
  {
   "cell_type": "code",
   "execution_count": 1,
   "id": "da41fe0a-737b-49c3-bef9-3dec2091c6b0",
   "metadata": {},
   "outputs": [],
   "source": [
    "import numpy as np"
   ]
  },
  {
   "cell_type": "code",
   "execution_count": 2,
   "id": "81094ff0-2385-46fa-beb5-212f5134bd40",
   "metadata": {},
   "outputs": [
    {
     "data": {
      "text/plain": [
       "array([[6.23042070e-307, 4.67296746e-307],\n",
       "       [1.69121096e-306, 1.29061074e-306]])"
      ]
     },
     "execution_count": 2,
     "metadata": {},
     "output_type": "execute_result"
    }
   ],
   "source": [
    "np.ndarray((2,2))"
   ]
  },
  {
   "cell_type": "code",
   "execution_count": 3,
   "id": "65b76e10-ba1b-467a-8e72-8d9a4db5ea60",
   "metadata": {},
   "outputs": [
    {
     "data": {
      "text/plain": [
       "array([1, 2, 3])"
      ]
     },
     "execution_count": 3,
     "metadata": {},
     "output_type": "execute_result"
    }
   ],
   "source": [
    "array_int=np.array([1,2,3])\n",
    "array_int"
   ]
  },
  {
   "cell_type": "code",
   "execution_count": 4,
   "id": "929bb544-0c7b-485a-8d97-5be5e16120ef",
   "metadata": {},
   "outputs": [
    {
     "data": {
      "text/plain": [
       "array([[1, 2, 3],\n",
       "       [2, 3, 4]])"
      ]
     },
     "execution_count": 4,
     "metadata": {},
     "output_type": "execute_result"
    }
   ],
   "source": [
    "#two dimensional array\n",
    "array_int2=np.array([[1,2,3],[2,3,4]])\n",
    "array_int2"
   ]
  },
  {
   "cell_type": "code",
   "execution_count": 5,
   "id": "b3bdb15e-10fb-4da2-9c53-a7a449c90407",
   "metadata": {},
   "outputs": [
    {
     "data": {
      "text/plain": [
       "array([[1, 2],\n",
       "       [3, 4]])"
      ]
     },
     "execution_count": 5,
     "metadata": {},
     "output_type": "execute_result"
    }
   ],
   "source": [
    "np.array(([1,2],[3,4]))"
   ]
  },
  {
   "cell_type": "code",
   "execution_count": 6,
   "id": "c54b2a43-c345-4a09-b98d-b4a575f43828",
   "metadata": {},
   "outputs": [
    {
     "data": {
      "text/plain": [
       "array([[1. , 2. , 3. ],\n",
       "       [5. , 6.7, 3. ]])"
      ]
     },
     "execution_count": 6,
     "metadata": {},
     "output_type": "execute_result"
    }
   ],
   "source": [
    "array_float=np.array(([1,2,3],[5,6.7,3]),dtype=float)\n",
    "array_float"
   ]
  },
  {
   "cell_type": "code",
   "execution_count": 7,
   "id": "f7cd6e6b-aede-4907-95da-d4b88198b25b",
   "metadata": {},
   "outputs": [
    {
     "data": {
      "text/plain": [
       "dtype('float64')"
      ]
     },
     "execution_count": 7,
     "metadata": {},
     "output_type": "execute_result"
    }
   ],
   "source": [
    "array_float.dtype"
   ]
  },
  {
   "cell_type": "code",
   "execution_count": 8,
   "id": "92f04cf5-4e7f-4fdf-a0b5-a1a01a3c1ebe",
   "metadata": {},
   "outputs": [
    {
     "data": {
      "text/plain": [
       "numpy.ndarray"
      ]
     },
     "execution_count": 8,
     "metadata": {},
     "output_type": "execute_result"
    }
   ],
   "source": [
    "type(array_float)"
   ]
  },
  {
   "cell_type": "markdown",
   "id": "4fec4f79-2c69-4f15-ad5e-6309a86593f9",
   "metadata": {},
   "source": [
    "### Changing data type of array\n",
    "- Specifying during creation\n",
    "- Type casting via .astype"
   ]
  },
  {
   "cell_type": "code",
   "execution_count": 9,
   "id": "ce547a75-aaec-4f34-a433-a8151a750d61",
   "metadata": {},
   "outputs": [
    {
     "data": {
      "text/plain": [
       "array([1, 2, 3], dtype=int8)"
      ]
     },
     "execution_count": 9,
     "metadata": {},
     "output_type": "execute_result"
    }
   ],
   "source": [
    "array_int.astype('int8')\n"
   ]
  },
  {
   "cell_type": "code",
   "execution_count": 10,
   "id": "f0d75a39-1cfb-4ff1-bb69-b8cc7f0af983",
   "metadata": {},
   "outputs": [
    {
     "data": {
      "text/plain": [
       "dtype('int32')"
      ]
     },
     "execution_count": 10,
     "metadata": {},
     "output_type": "execute_result"
    }
   ],
   "source": [
    "array_int.dtype"
   ]
  },
  {
   "cell_type": "code",
   "execution_count": 11,
   "id": "222a9b49-4c93-4d35-9de2-dcfdfd3a326b",
   "metadata": {},
   "outputs": [
    {
     "data": {
      "text/plain": [
       "dtype('int8')"
      ]
     },
     "execution_count": 11,
     "metadata": {},
     "output_type": "execute_result"
    }
   ],
   "source": [
    "array_int_8=array_int.astype('int8')\n",
    "array_int_8.dtype"
   ]
  },
  {
   "cell_type": "code",
   "execution_count": 12,
   "id": "86d4120e-59ac-49fe-8222-a5c5da7c320b",
   "metadata": {},
   "outputs": [
    {
     "data": {
      "text/plain": [
       "dtype('int8')"
      ]
     },
     "execution_count": 12,
     "metadata": {},
     "output_type": "execute_result"
    }
   ],
   "source": [
    "new_arr=np.array([1,4,7],dtype=np.int8)\n",
    "new_arr.dtype"
   ]
  },
  {
   "cell_type": "markdown",
   "id": "5111eb80-8f85-4cce-805d-b0d8691bd673",
   "metadata": {},
   "source": [
    "### Data layout\n",
    "- **itemsize** :specifies how many bytes are used for the data type\n",
    "- **Stride**: specifies how many bytes we have to jump  in order to move to the next elementt"
   ]
  },
  {
   "cell_type": "code",
   "execution_count": 13,
   "id": "e98b80b3-faa6-4f80-8e5e-150467525a2b",
   "metadata": {},
   "outputs": [
    {
     "name": "stdout",
     "output_type": "stream",
     "text": [
      "Int1D itemsize: 4\n",
      "Int1D strides: (4,)\n",
      "Float2D itemsize: 8\n",
      "Float2D strides: (24, 8)\n",
      "    \n"
     ]
    }
   ],
   "source": [
    "print(f\"\"\"Int1D itemsize: {array_int.itemsize}\n",
    "Int1D strides: {array_int.strides}\n",
    "Float2D itemsize: {array_float.itemsize}\n",
    "Float2D strides: {array_float.strides}\n",
    "    \"\"\")"
   ]
  },
  {
   "cell_type": "code",
   "execution_count": 14,
   "id": "87e3bee3-2174-4d4c-81ee-f0316847846d",
   "metadata": {},
   "outputs": [
    {
     "name": "stdout",
     "output_type": "stream",
     "text": [
      "[[0 1 2]\n",
      " [3 4 5]\n",
      " [6 7 8]]\n",
      "The data type of each element is: int32\n",
      "The length of each element in bytes is: 4\n",
      "The strides of the data types is: (12, 4)\n"
     ]
    }
   ],
   "source": [
    "arr = np.arange(9).reshape(3, 3)\n",
    "\n",
    "print(arr)\n",
    "print(f'The data type of each element is: {arr.dtype}')\n",
    "print(f'The length of each element in bytes is: {arr.itemsize}')\n",
    "print(f'The strides of the data types is: {arr.strides}')"
   ]
  },
  {
   "cell_type": "markdown",
   "id": "3e7ecba0-ecbe-422c-b5a4-1f124c4c72a9",
   "metadata": {},
   "source": [
    "### Transpose"
   ]
  },
  {
   "cell_type": "code",
   "execution_count": 15,
   "id": "76f9c02e-e694-4999-aad7-401bcb087adc",
   "metadata": {},
   "outputs": [
    {
     "name": "stdout",
     "output_type": "stream",
     "text": [
      "[[0 3 6]\n",
      " [1 4 7]\n",
      " [2 5 8]]\n"
     ]
    },
    {
     "data": {
      "text/plain": [
       "(4, 12)"
      ]
     },
     "execution_count": 15,
     "metadata": {},
     "output_type": "execute_result"
    }
   ],
   "source": [
    "transposed = arr.T\n",
    "\n",
    "print(transposed)\n",
    "transposed.strides"
   ]
  },
  {
   "cell_type": "code",
   "execution_count": 16,
   "id": "bebf0ec9-4e41-44bf-b889-a180cd7dc46d",
   "metadata": {},
   "outputs": [
    {
     "name": "stdout",
     "output_type": "stream",
     "text": [
      "[[1. 1.]\n",
      " [1. 1.]\n",
      " [1. 1.]]\n",
      "Shape of \"one\" is: (3, 2)\n",
      "[[0. 0.]\n",
      " [0. 0.]\n",
      " [0. 0.]]\n",
      "Shape of \"zeros\" is: (3, 2)\n",
      "[[1. 0. 0.]\n",
      " [0. 1. 0.]\n",
      " [0. 0. 1.]]\n",
      "Shape of \"identity\" is: (3, 3)\n"
     ]
    }
   ],
   "source": [
    "ones = np.ones((3, 2)) # 2D matrix filled with ones\n",
    "zeros = np.zeros_like(ones) # 2D zero matrix filled with zeros of the same shape as ones and zeros\n",
    "identity = np.eye(3)\n",
    "\n",
    "print(ones)\n",
    "print(f'Shape of \"one\" is: {ones.shape}')\n",
    "print(zeros)\n",
    "print(f'Shape of \"zeros\" is: {zeros.shape}')\n",
    "print(identity)\n",
    "print(f'Shape of \"identity\" is: {identity.shape}')\n"
   ]
  },
  {
   "cell_type": "markdown",
   "id": "aa694087-5ee7-4667-be15-5bd264c1fd9a",
   "metadata": {},
   "source": [
    "### Random array"
   ]
  },
  {
   "cell_type": "code",
   "execution_count": 17,
   "id": "f6272b64-fbf5-40ae-bdfc-1c93442c41d7",
   "metadata": {},
   "outputs": [
    {
     "data": {
      "text/plain": [
       "array([-1.54964176, -2.91089353, -1.80995271,  1.40480066,  0.6281781 ,\n",
       "       -1.14965656,  0.19235534, -0.95833308,  1.4633789 ,  2.41270929])"
      ]
     },
     "execution_count": 17,
     "metadata": {},
     "output_type": "execute_result"
    }
   ],
   "source": [
    "vals = np.random.standard_normal(10)\n",
    "\n",
    "vals"
   ]
  },
  {
   "cell_type": "code",
   "execution_count": 18,
   "id": "8f979039-f420-4f5e-ba8c-65571123024a",
   "metadata": {},
   "outputs": [
    {
     "data": {
      "text/plain": [
       "array([[-0.19878801,  1.4833356 , -0.7489924 , -0.70079213],\n",
       "       [-2.02439715, -0.92804164,  0.1015263 ,  0.34534607],\n",
       "       [-2.97774182, -0.84911641,  0.7913057 ,  1.19647559]])"
      ]
     },
     "execution_count": 18,
     "metadata": {},
     "output_type": "execute_result"
    }
   ],
   "source": [
    "# Random NORMAL distribution (mean: 0 and stddev: 1)\n",
    "vals = np.random.randn(3, 4)\n",
    "\n",
    "vals"
   ]
  },
  {
   "cell_type": "code",
   "execution_count": 19,
   "id": "17061dee-1b07-4082-a266-5f3c2a3c6880",
   "metadata": {},
   "outputs": [
    {
     "data": {
      "text/plain": [
       "array([[0.05911425, 0.35757277, 0.98153333, 0.83370699],\n",
       "       [0.74842887, 0.7040697 , 0.58344621, 0.81168653],\n",
       "       [0.86672739, 0.84376627, 0.69655236, 0.07016121]])"
      ]
     },
     "execution_count": 19,
     "metadata": {},
     "output_type": "execute_result"
    }
   ],
   "source": [
    "# Random UNIFORM distribution (0, 1 range)\n",
    "vals = np.random.rand(3, 4)\n",
    "\n",
    "vals"
   ]
  },
  {
   "cell_type": "code",
   "execution_count": 20,
   "id": "eec48501-6556-4e6d-8624-ee71ff7af556",
   "metadata": {},
   "outputs": [
    {
     "data": {
      "text/plain": [
       "5"
      ]
     },
     "execution_count": 20,
     "metadata": {},
     "output_type": "execute_result"
    }
   ],
   "source": [
    "array=np.array([1,2,3,4,5])\n",
    "array[4]"
   ]
  },
  {
   "cell_type": "code",
   "execution_count": 21,
   "id": "30f2277a-47d5-4245-a9df-002845b97adb",
   "metadata": {},
   "outputs": [
    {
     "data": {
      "text/plain": [
       "array([[5, 6, 3, 3],\n",
       "       [5, 0, 6, 4],\n",
       "       [6, 2, 9, 8]])"
      ]
     },
     "execution_count": 21,
     "metadata": {},
     "output_type": "execute_result"
    }
   ],
   "source": [
    "np.random.randint(0,10,(3,4))"
   ]
  },
  {
   "cell_type": "markdown",
   "id": "45caa4d6-95c1-42f4-9a85-5eaf06176c23",
   "metadata": {},
   "source": [
    "### Array operations\n",
    "- Addition\n",
    "- subtraction\n",
    "- \n",
    "multiplicatio\n",
    "- \r\n",
    "bitwise operations (whethe n array is boolean)"
   ]
  },
  {
   "cell_type": "code",
   "execution_count": 22,
   "id": "137d76d9-ca23-4ef5-a1d4-d2d75e7ce347",
   "metadata": {},
   "outputs": [
    {
     "data": {
      "text/plain": [
       "array([[5, 5, 5],\n",
       "       [5, 5, 5],\n",
       "       [5, 5, 5]])"
      ]
     },
     "execution_count": 22,
     "metadata": {},
     "output_type": "execute_result"
    }
   ],
   "source": [
    "arr1=np.full((3,3),fill_value=5)\n",
    "arr1"
   ]
  },
  {
   "cell_type": "code",
   "execution_count": 23,
   "id": "5e77e75a-0caf-47f4-ae4a-d99fc5fb4f3d",
   "metadata": {},
   "outputs": [
    {
     "data": {
      "text/plain": [
       "array([[1, 0, 0],\n",
       "       [0, 1, 0],\n",
       "       [0, 0, 1]], dtype=int64)"
      ]
     },
     "execution_count": 23,
     "metadata": {},
     "output_type": "execute_result"
    }
   ],
   "source": [
    "identity_1=np.eye(arr1.shape[0],dtype='int64')\n",
    "identity_1"
   ]
  },
  {
   "cell_type": "code",
   "execution_count": 24,
   "id": "fd986d73-7add-40c3-a2c9-d9db569afc33",
   "metadata": {},
   "outputs": [
    {
     "name": "stdout",
     "output_type": "stream",
     "text": [
      "[[5 5 5]\n",
      " [5 5 5]\n",
      " [5 5 5]]\n",
      "    +    \n",
      "[[1 0 0]\n",
      " [0 1 0]\n",
      " [0 0 1]]\n",
      "    =    \n",
      "[[6 5 5]\n",
      " [5 6 5]\n",
      " [5 5 6]]\n"
     ]
    }
   ],
   "source": [
    "print(arr1)\n",
    "print('    +    ')\n",
    "print(identity_1)\n",
    "print('    =    ')\n",
    "print(arr1 + identity_1)"
   ]
  },
  {
   "cell_type": "code",
   "execution_count": 25,
   "id": "b75565e5-f12d-41aa-bcea-ea2347a07580",
   "metadata": {},
   "outputs": [
    {
     "data": {
      "text/plain": [
       "array([[ 0.41352406, 11.65427351, 11.65427351],\n",
       "       [11.65427351,  0.41352406, 11.65427351],\n",
       "       [11.65427351, 11.65427351,  0.41352406]])"
      ]
     },
     "execution_count": 25,
     "metadata": {},
     "output_type": "execute_result"
    }
   ],
   "source": [
    "(np.cos(arr1) - np.sin(arr1) ** 3) / (np.eye(arr1.shape[0]) * np.e + 0.1)"
   ]
  },
  {
   "cell_type": "code",
   "execution_count": 26,
   "id": "cf715888-0703-4886-a202-14399c072cf6",
   "metadata": {},
   "outputs": [
    {
     "data": {
      "text/plain": [
       "array([[ 0,  1,  2,  3],\n",
       "       [ 4,  5,  6,  7],\n",
       "       [ 8,  9, 10, 11],\n",
       "       [12, 13, 14, 15],\n",
       "       [16, 17, 18, 19]])"
      ]
     },
     "execution_count": 26,
     "metadata": {},
     "output_type": "execute_result"
    }
   ],
   "source": [
    "matrix = np.arange(20).reshape(5, 4)\n",
    "\n",
    "matrix"
   ]
  },
  {
   "cell_type": "code",
   "execution_count": 27,
   "id": "2588cf7b-4bca-4a48-8b88-e8ee0c3e5895",
   "metadata": {},
   "outputs": [
    {
     "data": {
      "text/plain": [
       "(0, 4, 1, 8)"
      ]
     },
     "execution_count": 27,
     "metadata": {},
     "output_type": "execute_result"
    }
   ],
   "source": [
    "matrix[0, 0], matrix[1, 0], matrix[0, 1], matrix[2][0]"
   ]
  },
  {
   "cell_type": "code",
   "execution_count": 28,
   "id": "a5a278cc-ee9d-452f-bb1c-f1851a01da8f",
   "metadata": {},
   "outputs": [
    {
     "data": {
      "text/plain": [
       "array([0, 1, 2, 3])"
      ]
     },
     "execution_count": 28,
     "metadata": {},
     "output_type": "execute_result"
    }
   ],
   "source": [
    "matrix[0]"
   ]
  },
  {
   "cell_type": "code",
   "execution_count": 29,
   "id": "9d026316-e520-4f05-a1a5-f3f26d7d23cc",
   "metadata": {},
   "outputs": [
    {
     "data": {
      "text/plain": [
       "array([ 0,  4,  8, 12, 16])"
      ]
     },
     "execution_count": 29,
     "metadata": {},
     "output_type": "execute_result"
    }
   ],
   "source": [
    "# : means all elements\n",
    "# 0 means 0th column\n",
    "matrix[:,0]"
   ]
  },
  {
   "cell_type": "code",
   "execution_count": 30,
   "id": "d39e56c6-3922-4925-9202-4156a59c6831",
   "metadata": {},
   "outputs": [
    {
     "data": {
      "text/plain": [
       "array([[ 4,  5,  6,  7],\n",
       "       [ 8,  9, 10, 11],\n",
       "       [12, 13, 14, 15],\n",
       "       [16, 17, 18, 19]])"
      ]
     },
     "execution_count": 30,
     "metadata": {},
     "output_type": "execute_result"
    }
   ],
   "source": [
    "matrix[1:]"
   ]
  },
  {
   "cell_type": "code",
   "execution_count": 31,
   "id": "2506b694-1422-40cd-b7e3-d0390379bfe8",
   "metadata": {},
   "outputs": [
    {
     "data": {
      "text/plain": [
       "array([[ 2,  3],\n",
       "       [ 6,  7],\n",
       "       [10, 11],\n",
       "       [14, 15],\n",
       "       [18, 19]])"
      ]
     },
     "execution_count": 31,
     "metadata": {},
     "output_type": "execute_result"
    }
   ],
   "source": [
    "matrix[:,2:]"
   ]
  },
  {
   "cell_type": "code",
   "execution_count": 32,
   "id": "7529ee22-d4c2-494d-988d-f266f0c872a0",
   "metadata": {},
   "outputs": [
    {
     "data": {
      "text/plain": [
       "array([0, 4, 8])"
      ]
     },
     "execution_count": 32,
     "metadata": {},
     "output_type": "execute_result"
    }
   ],
   "source": [
    "matrix[0:3,0]"
   ]
  },
  {
   "cell_type": "code",
   "execution_count": 33,
   "id": "4b58f162-b8c8-466a-a12e-e9ebc1c08071",
   "metadata": {},
   "outputs": [
    {
     "data": {
      "text/plain": [
       "array([[ 3,  2,  1,  0],\n",
       "       [ 7,  6,  5,  4],\n",
       "       [11, 10,  9,  8],\n",
       "       [15, 14, 13, 12],\n",
       "       [19, 18, 17, 16]])"
      ]
     },
     "execution_count": 33,
     "metadata": {},
     "output_type": "execute_result"
    }
   ],
   "source": [
    "# Inverse of columns\n",
    "\n",
    "matrix[:, ::-1]"
   ]
  },
  {
   "cell_type": "code",
   "execution_count": 34,
   "id": "3a9fe38a-7905-47e7-a61b-9afdbd209d6b",
   "metadata": {},
   "outputs": [
    {
     "data": {
      "text/plain": [
       "array([[19, 18, 17, 16],\n",
       "       [15, 14, 13, 12],\n",
       "       [11, 10,  9,  8],\n",
       "       [ 7,  6,  5,  4],\n",
       "       [ 3,  2,  1,  0]])"
      ]
     },
     "execution_count": 34,
     "metadata": {},
     "output_type": "execute_result"
    }
   ],
   "source": [
    "matrix[::-1, ::-1]"
   ]
  },
  {
   "cell_type": "code",
   "execution_count": 35,
   "id": "b303919b-a10e-4753-b0f1-86f6da785d49",
   "metadata": {},
   "outputs": [
    {
     "data": {
      "text/plain": [
       "array([[19, 17],\n",
       "       [ 7,  5]])"
      ]
     },
     "execution_count": 35,
     "metadata": {},
     "output_type": "execute_result"
    }
   ],
   "source": [
    "matrix[::-3, ::-2]"
   ]
  },
  {
   "cell_type": "code",
   "execution_count": 36,
   "id": "b94a82c4-7815-4bb3-a3cf-3a2e1b97aa38",
   "metadata": {},
   "outputs": [
    {
     "data": {
      "text/plain": [
       "(2, 2, 5)"
      ]
     },
     "execution_count": 36,
     "metadata": {},
     "output_type": "execute_result"
    }
   ],
   "source": [
    "# change to 3D tensor\n",
    "temp = matrix.reshape(2, 2, -1)\n",
    "temp.shape"
   ]
  },
  {
   "cell_type": "code",
   "execution_count": 37,
   "id": "506c8674-337a-4e07-9854-11d0387858e5",
   "metadata": {},
   "outputs": [
    {
     "data": {
      "text/plain": [
       "array([[ 0,  1,  2,  3],\n",
       "       [ 4,  5,  6,  7],\n",
       "       [ 8,  9, 10, 11],\n",
       "       [12, 13, 14, 15],\n",
       "       [16, 17, 18, 19]])"
      ]
     },
     "execution_count": 37,
     "metadata": {},
     "output_type": "execute_result"
    }
   ],
   "source": [
    "matrix"
   ]
  },
  {
   "cell_type": "code",
   "execution_count": 38,
   "id": "9ea83d40-132c-463b-ad38-b8bfebd1ec94",
   "metadata": {},
   "outputs": [
    {
     "data": {
      "text/plain": [
       "array([[ 0,  2],\n",
       "       [ 4,  6],\n",
       "       [ 8, 10],\n",
       "       [12, 14],\n",
       "       [16, 18]])"
      ]
     },
     "execution_count": 38,
     "metadata": {},
     "output_type": "execute_result"
    }
   ],
   "source": [
    "# Column 0 and 2\n",
    "matrix[:, [0, 2]]"
   ]
  },
  {
   "cell_type": "code",
   "execution_count": 39,
   "id": "e855aaaa-b806-401c-97e5-0750c40ae353",
   "metadata": {},
   "outputs": [
    {
     "data": {
      "text/plain": [
       "array([[16, 17, 18, 19],\n",
       "       [16, 17, 18, 19]])"
      ]
     },
     "execution_count": 39,
     "metadata": {},
     "output_type": "execute_result"
    }
   ],
   "source": [
    "matrix[[-1, -1]]"
   ]
  },
  {
   "cell_type": "code",
   "execution_count": 40,
   "id": "f5f35a3e-0214-491c-9570-e6d186c6831b",
   "metadata": {},
   "outputs": [
    {
     "data": {
      "text/plain": [
       "array([0, 1, 2, 3, 4])"
      ]
     },
     "execution_count": 40,
     "metadata": {},
     "output_type": "execute_result"
    }
   ],
   "source": [
    "#Shuffle rows using indices\n",
    "indices=np.arange(matrix.shape[0])\n",
    "indices"
   ]
  },
  {
   "cell_type": "code",
   "execution_count": 41,
   "id": "1417dd38-0b4f-4edb-b443-da84d11b5c83",
   "metadata": {},
   "outputs": [
    {
     "data": {
      "text/plain": [
       "array([3, 0, 2, 4, 1])"
      ]
     },
     "execution_count": 41,
     "metadata": {},
     "output_type": "execute_result"
    }
   ],
   "source": [
    "permuted=np.random.permutation(indices)\n",
    "permuted"
   ]
  },
  {
   "cell_type": "code",
   "execution_count": 42,
   "id": "aca8048e-9af9-4701-a482-0038b083b09f",
   "metadata": {},
   "outputs": [
    {
     "data": {
      "text/plain": [
       "array([[12, 13, 14, 15],\n",
       "       [ 0,  1,  2,  3],\n",
       "       [ 8,  9, 10, 11],\n",
       "       [16, 17, 18, 19],\n",
       "       [ 4,  5,  6,  7]])"
      ]
     },
     "execution_count": 42,
     "metadata": {},
     "output_type": "execute_result"
    }
   ],
   "source": [
    "matrix[permuted]"
   ]
  },
  {
   "cell_type": "code",
   "execution_count": 43,
   "id": "822e264b-98f5-489d-b402-ee0490735d16",
   "metadata": {},
   "outputs": [
    {
     "name": "stdout",
     "output_type": "stream",
     "text": [
      "[[False False False False]\n",
      " [False False  True  True]\n",
      " [ True  True  True  True]\n",
      " [ True  True  True  True]\n",
      " [ True  True  True  True]]\n"
     ]
    },
    {
     "data": {
      "text/plain": [
       "array([ 6,  7,  8,  9, 10, 11, 12, 13, 14, 15, 16, 17, 18, 19])"
      ]
     },
     "execution_count": 43,
     "metadata": {},
     "output_type": "execute_result"
    }
   ],
   "source": [
    "# Obtaining only elements which fulfill condition\n",
    "# In this case elements larger than 5\n",
    "\n",
    "print(matrix > 5)\n",
    "\n",
    "# Array has to be flat as it lost it's N x N structure\n",
    "matrix[matrix > 5]"
   ]
  },
  {
   "cell_type": "code",
   "execution_count": 44,
   "id": "e4df64f7-f3ab-4870-ab4b-0ae96f8e5933",
   "metadata": {},
   "outputs": [],
   "source": [
    "my_array=np.random.rand(6,10)"
   ]
  },
  {
   "cell_type": "code",
   "execution_count": 45,
   "id": "da9d1466-1be2-42a6-ab31-473d5370c284",
   "metadata": {},
   "outputs": [
    {
     "data": {
      "text/plain": [
       "array([[0.80691375, 0.83326643, 0.05358108, 0.53786891, 0.59674971,\n",
       "        0.58382922, 0.95140066, 0.31309265, 0.03272954, 0.20705823],\n",
       "       [0.20828871, 0.71933984, 0.47963457, 0.65489948, 0.64455941,\n",
       "        0.56329906, 0.42912034, 0.97375636, 0.13279558, 0.43097206],\n",
       "       [0.19151203, 0.07501112, 0.83938256, 0.60306057, 0.27216205,\n",
       "        0.67610106, 0.55104076, 0.28613151, 0.33323928, 0.56171365],\n",
       "       [0.7465106 , 0.10561345, 0.93975071, 0.32197218, 0.86086539,\n",
       "        0.52135755, 0.7297788 , 0.94017741, 0.12554834, 0.09951953],\n",
       "       [0.25997974, 0.57888491, 0.68914349, 0.62820506, 0.6077229 ,\n",
       "        0.24131558, 0.81674636, 0.77387603, 0.62855211, 0.51700147],\n",
       "       [0.50948761, 0.713149  , 0.73617291, 0.46224251, 0.81665283,\n",
       "        0.04290385, 0.47922384, 0.67623025, 0.83389584, 0.10467007]])"
      ]
     },
     "execution_count": 45,
     "metadata": {},
     "output_type": "execute_result"
    }
   ],
   "source": [
    "my_array"
   ]
  },
  {
   "cell_type": "code",
   "execution_count": 46,
   "id": "01600cfb-b541-476e-b5cc-9e83bec51eb2",
   "metadata": {},
   "outputs": [],
   "source": [
    "new_array=my_array"
   ]
  },
  {
   "cell_type": "code",
   "execution_count": 47,
   "id": "f1cee07b-8067-4d28-9746-5f8d3091db95",
   "metadata": {},
   "outputs": [
    {
     "data": {
      "text/plain": [
       "array([[ 0,  1,  2,  3],\n",
       "       [ 4,  5,  6,  7],\n",
       "       [ 8,  9, 10, 11],\n",
       "       [12, 13, 14, 15],\n",
       "       [16, 17, 18, 19]])"
      ]
     },
     "execution_count": 47,
     "metadata": {},
     "output_type": "execute_result"
    }
   ],
   "source": [
    "a=np.arange(20).reshape(5,4)\n",
    "a"
   ]
  },
  {
   "cell_type": "code",
   "execution_count": 48,
   "id": "1182c7c0-a909-4c93-9962-1bbeb7c8e897",
   "metadata": {},
   "outputs": [
    {
     "data": {
      "text/plain": [
       "6"
      ]
     },
     "execution_count": 48,
     "metadata": {},
     "output_type": "execute_result"
    }
   ],
   "source": [
    "a[1,2]"
   ]
  },
  {
   "cell_type": "code",
   "execution_count": 49,
   "id": "6d88ee64-ba1b-4c5e-aa17-25febc833fbb",
   "metadata": {},
   "outputs": [
    {
     "data": {
      "text/plain": [
       "array([[ 4,  5,  6,  7],\n",
       "       [ 8,  9, 10, 11]])"
      ]
     },
     "execution_count": 49,
     "metadata": {},
     "output_type": "execute_result"
    }
   ],
   "source": [
    "a[[1,2]]"
   ]
  },
  {
   "cell_type": "code",
   "execution_count": 50,
   "id": "fc3654c8-76e2-452f-8b7c-b0c1434f3c4d",
   "metadata": {},
   "outputs": [
    {
     "data": {
      "text/plain": [
       "array([[0.80691375, 0.83326643, 0.05358108, 0.53786891, 0.59674971,\n",
       "        0.58382922, 0.95140066, 0.31309265, 0.03272954, 0.20705823],\n",
       "       [0.20828871, 0.71933984, 0.47963457, 0.65489948, 0.64455941,\n",
       "        0.56329906, 0.42912034, 0.97375636, 0.13279558, 0.43097206],\n",
       "       [0.19151203, 0.07501112, 0.83938256, 0.60306057, 0.27216205,\n",
       "        0.67610106, 0.55104076, 0.28613151, 0.33323928, 0.56171365],\n",
       "       [0.7465106 , 0.10561345, 0.93975071, 0.32197218, 0.86086539,\n",
       "        0.52135755, 0.7297788 , 0.94017741, 0.12554834, 0.09951953],\n",
       "       [0.25997974, 0.57888491, 0.68914349, 0.62820506, 0.6077229 ,\n",
       "        0.24131558, 0.81674636, 0.77387603, 0.62855211, 0.51700147],\n",
       "       [0.50948761, 0.713149  , 0.73617291, 0.46224251, 0.81665283,\n",
       "        0.04290385, 0.47922384, 0.67623025, 0.83389584, 0.10467007]])"
      ]
     },
     "execution_count": 50,
     "metadata": {},
     "output_type": "execute_result"
    }
   ],
   "source": [
    "my_array"
   ]
  },
  {
   "cell_type": "code",
   "execution_count": 51,
   "id": "a079d661-ce3c-4197-80d7-8fd785f9b538",
   "metadata": {},
   "outputs": [
    {
     "data": {
      "text/plain": [
       "array([[0.83326643, 0.53786891, 0.58382922],\n",
       "       [0.71933984, 0.65489948, 0.56329906],\n",
       "       [0.07501112, 0.60306057, 0.67610106],\n",
       "       [0.10561345, 0.32197218, 0.52135755],\n",
       "       [0.57888491, 0.62820506, 0.24131558],\n",
       "       [0.713149  , 0.46224251, 0.04290385]])"
      ]
     },
     "execution_count": 51,
     "metadata": {},
     "output_type": "execute_result"
    }
   ],
   "source": [
    "new_array=my_array[:,[1,3,5]]\n",
    "new_array"
   ]
  },
  {
   "cell_type": "code",
   "execution_count": 52,
   "id": "ca0d1fae-fbd1-4288-a6c9-3347eeb0a9b1",
   "metadata": {},
   "outputs": [
    {
     "data": {
      "text/plain": [
       "(6, 10)"
      ]
     },
     "execution_count": 52,
     "metadata": {},
     "output_type": "execute_result"
    }
   ],
   "source": [
    "my_array.shape"
   ]
  },
  {
   "cell_type": "code",
   "execution_count": 53,
   "id": "f38c95e0-07ce-41f5-8c1e-8c277fa74f18",
   "metadata": {},
   "outputs": [
    {
     "data": {
      "text/plain": [
       "(6, 3)"
      ]
     },
     "execution_count": 53,
     "metadata": {},
     "output_type": "execute_result"
    }
   ],
   "source": [
    "new_array.shape"
   ]
  },
  {
   "cell_type": "code",
   "execution_count": 54,
   "id": "b0afb309-099b-4b9d-9d27-78e563a60410",
   "metadata": {},
   "outputs": [
    {
     "ename": "ValueError",
     "evalue": "operands could not be broadcast together with shapes (6,10) (6,3) ",
     "output_type": "error",
     "traceback": [
      "\u001b[1;31m---------------------------------------------------------------------------\u001b[0m",
      "\u001b[1;31mValueError\u001b[0m                                Traceback (most recent call last)",
      "Cell \u001b[1;32mIn[54], line 1\u001b[0m\n\u001b[1;32m----> 1\u001b[0m \u001b[43mmy_array\u001b[49m\u001b[38;5;241;43m*\u001b[39;49m\u001b[43mnew_array\u001b[49m\n",
      "\u001b[1;31mValueError\u001b[0m: operands could not be broadcast together with shapes (6,10) (6,3) "
     ]
    }
   ],
   "source": [
    "my_array*new_array"
   ]
  },
  {
   "cell_type": "code",
   "execution_count": null,
   "id": "b2093797-4eee-42d7-b02e-7dc500711d8e",
   "metadata": {},
   "outputs": [],
   "source": [
    "new_array=new_array.T\n",
    "new_array.shape"
   ]
  },
  {
   "cell_type": "code",
   "execution_count": null,
   "id": "3716f4df-ce5c-4815-9dea-59e8d04a73d7",
   "metadata": {},
   "outputs": [],
   "source": [
    "arr = np.arange(18)\r",
    "print(arr)\n",
    "\r\n",
    "print(arr.shape, arr.strides)"
   ]
  },
  {
   "cell_type": "code",
   "execution_count": null,
   "id": "83725617-9e30-4a8a-90c4-61d13f505c7b",
   "metadata": {},
   "outputs": [],
   "source": [
    "\n",
    "reshaped = arr.reshape(3, 2, -1)"
   ]
  },
  {
   "cell_type": "code",
   "execution_count": null,
   "id": "98150355-5245-42d3-8d5b-bd4e63345f0d",
   "metadata": {},
   "outputs": [],
   "source": [
    "reshaped"
   ]
  },
  {
   "cell_type": "code",
   "execution_count": null,
   "id": "7eb914e2-1dab-440f-8696-4807d0073248",
   "metadata": {},
   "outputs": [],
   "source": [
    "reshaped.shape"
   ]
  },
  {
   "cell_type": "code",
   "execution_count": null,
   "id": "0e1a805f-4ac7-459c-9901-69816c0e54d3",
   "metadata": {},
   "outputs": [],
   "source": [
    "arr = np.arange(18)\n",
    "\n",
    "print(arr.shape, arr.strides)\n",
    "\n",
    "reshaped = arr.reshape(3, 2, -1)\n",
    "\n",
    "print(reshaped.shape, reshaped.strides)\n",
    "\n",
    "print(f\"Sharing underlying memory: {np.may_share_memory(arr, reshaped)}\")"
   ]
  },
  {
   "cell_type": "code",
   "execution_count": null,
   "id": "417fe541-082b-47e9-a330-9fc8798094da",
   "metadata": {},
   "outputs": [],
   "source": [
    "arr[7] = 99999.\n",
    "\n",
    "print(arr)\n",
    "print(reshaped)"
   ]
  },
  {
   "cell_type": "code",
   "execution_count": null,
   "id": "1a16999a-550a-4374-8f8c-fb0d40a57452",
   "metadata": {},
   "outputs": [],
   "source": []
  }
 ],
 "metadata": {
  "kernelspec": {
   "display_name": "Python 3 (ipykernel)",
   "language": "python",
   "name": "python3"
  },
  "language_info": {
   "codemirror_mode": {
    "name": "ipython",
    "version": 3
   },
   "file_extension": ".py",
   "mimetype": "text/x-python",
   "name": "python",
   "nbconvert_exporter": "python",
   "pygments_lexer": "ipython3",
   "version": "3.9.19"
  }
 },
 "nbformat": 4,
 "nbformat_minor": 5
}
