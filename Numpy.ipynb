{
 "cells": [
  {
   "cell_type": "markdown",
   "id": "2f171c69-75d1-4e82-8c1f-edc6011869fe",
   "metadata": {},
   "source": [
    "### Numpy\n",
    "- Numpy is a Python library that helps create a multi-dimensional array and performs mathematical operations on arrays."
   ]
  },
  {
   "cell_type": "markdown",
   "id": "df5beccf-f946-4687-92cb-a904974173c8",
   "metadata": {},
   "source": [
    "#### Installing NumPy\n",
    "* conda install numpy \n",
    "\n",
    "* pip install numpy"
   ]
  },
  {
   "cell_type": "code",
   "execution_count": 2,
   "id": "06ffa9bd-b8b4-4737-bf74-51d3edea3db0",
   "metadata": {},
   "outputs": [],
   "source": [
    "#import numpy\n",
    "import numpy as np"
   ]
  },
  {
   "cell_type": "markdown",
   "id": "3bb8dd95-2b35-4794-b898-2c83fe187dfc",
   "metadata": {},
   "source": [
    "#### Array creation"
   ]
  },
  {
   "cell_type": "code",
   "execution_count": 46,
   "id": "3695ee96-3cbb-4c06-867a-af1a7793b8f0",
   "metadata": {},
   "outputs": [],
   "source": [
    "my_list=[1,2,3,4,6]"
   ]
  },
  {
   "cell_type": "code",
   "execution_count": 48,
   "id": "da5b9b12-3d4c-4164-817e-938ea741c9f9",
   "metadata": {},
   "outputs": [],
   "source": [
    "arr=np.array(my_list)"
   ]
  },
  {
   "cell_type": "code",
   "execution_count": 49,
   "id": "b4dcd409-9044-4859-947d-db6c2d286847",
   "metadata": {},
   "outputs": [
    {
     "data": {
      "text/plain": [
       "array([1, 2, 3, 4, 6])"
      ]
     },
     "execution_count": 49,
     "metadata": {},
     "output_type": "execute_result"
    }
   ],
   "source": [
    "arr"
   ]
  },
  {
   "cell_type": "code",
   "execution_count": 50,
   "id": "e3154626-8c2d-4cf6-8b92-efb9cb0b2988",
   "metadata": {},
   "outputs": [
    {
     "data": {
      "text/plain": [
       "numpy.ndarray"
      ]
     },
     "execution_count": 50,
     "metadata": {},
     "output_type": "execute_result"
    }
   ],
   "source": [
    "type(arr)"
   ]
  },
  {
   "cell_type": "code",
   "execution_count": 51,
   "id": "65ee762e-9e0a-4d46-9498-23412817a6fa",
   "metadata": {},
   "outputs": [],
   "source": [
    "arr2=np.array([1.3,2.9,4.5])"
   ]
  },
  {
   "cell_type": "code",
   "execution_count": 54,
   "id": "5571d2d8-f997-4090-aefb-9b1cb624fa65",
   "metadata": {},
   "outputs": [
    {
     "data": {
      "text/plain": [
       "array([1.3, 2.9, 4.5])"
      ]
     },
     "execution_count": 54,
     "metadata": {},
     "output_type": "execute_result"
    }
   ],
   "source": [
    "arr2\n"
   ]
  },
  {
   "cell_type": "code",
   "execution_count": 55,
   "id": "c599628e-b9a1-4765-95c6-d7f1d6e0bc35",
   "metadata": {},
   "outputs": [
    {
     "data": {
      "text/plain": [
       "numpy.ndarray"
      ]
     },
     "execution_count": 55,
     "metadata": {},
     "output_type": "execute_result"
    }
   ],
   "source": [
    "type(arr2)"
   ]
  },
  {
   "cell_type": "code",
   "execution_count": 57,
   "id": "a98237c3-9c4a-46a0-82ff-445a6c7b78e5",
   "metadata": {},
   "outputs": [
    {
     "data": {
      "text/plain": [
       "dtype('float64')"
      ]
     },
     "execution_count": 57,
     "metadata": {},
     "output_type": "execute_result"
    }
   ],
   "source": [
    "#type of the data\n",
    "arr2.dtype"
   ]
  },
  {
   "cell_type": "code",
   "execution_count": null,
   "id": "a52a3784-7136-410e-88e6-36526add9959",
   "metadata": {},
   "outputs": [],
   "source": [
    "ty"
   ]
  },
  {
   "cell_type": "code",
   "execution_count": 5,
   "id": "daa0469b-9a0c-4054-ba75-4a1f85f56d9d",
   "metadata": {},
   "outputs": [],
   "source": [
    "array1=np.arange(6)"
   ]
  },
  {
   "cell_type": "code",
   "execution_count": null,
   "id": "01e9694a-9487-4f73-93a0-0ee4a04bd29a",
   "metadata": {},
   "outputs": [],
   "source": []
  },
  {
   "cell_type": "code",
   "execution_count": null,
   "id": "7bb7c458-b729-40a8-baa2-e1aa1a319281",
   "metadata": {},
   "outputs": [],
   "source": []
  },
  {
   "cell_type": "code",
   "execution_count": null,
   "id": "13845d4e-27fe-4063-b417-9aa53ff4147e",
   "metadata": {},
   "outputs": [],
   "source": []
  },
  {
   "cell_type": "code",
   "execution_count": 6,
   "id": "ab76748c-b47a-4abd-b2ed-4ef73cdcbf4a",
   "metadata": {},
   "outputs": [
    {
     "name": "stdout",
     "output_type": "stream",
     "text": [
      "[0 1 2 3 4 5]\n"
     ]
    }
   ],
   "source": [
    "print(array1)"
   ]
  },
  {
   "cell_type": "code",
   "execution_count": 41,
   "id": "5ad0a693-928b-4f46-8ae7-7017c46b9e62",
   "metadata": {},
   "outputs": [
    {
     "data": {
      "text/plain": [
       "numpy.ndarray"
      ]
     },
     "execution_count": 41,
     "metadata": {},
     "output_type": "execute_result"
    }
   ],
   "source": [
    "type(array1)"
   ]
  },
  {
   "cell_type": "code",
   "execution_count": 42,
   "id": "cdd6d44b-003c-4f6d-8d0d-da5d02661d6e",
   "metadata": {},
   "outputs": [
    {
     "data": {
      "text/plain": [
       "dtype('int32')"
      ]
     },
     "execution_count": 42,
     "metadata": {},
     "output_type": "execute_result"
    }
   ],
   "source": [
    "array1.dtype"
   ]
  },
  {
   "cell_type": "code",
   "execution_count": 43,
   "id": "bbb7868e-68d3-4484-b2b5-b7ebd0e3a534",
   "metadata": {},
   "outputs": [
    {
     "data": {
      "text/plain": [
       "(6,)"
      ]
     },
     "execution_count": 43,
     "metadata": {},
     "output_type": "execute_result"
    }
   ],
   "source": [
    "#check the shape of the array\n",
    "array1.shape"
   ]
  },
  {
   "cell_type": "code",
   "execution_count": 9,
   "id": "665d6b46-7c70-4e73-b5cc-6d9b0b4ffd5c",
   "metadata": {},
   "outputs": [
    {
     "data": {
      "text/plain": [
       "array([[0, 1, 2],\n",
       "       [3, 4, 5]])"
      ]
     },
     "execution_count": 9,
     "metadata": {},
     "output_type": "execute_result"
    }
   ],
   "source": [
    "array1.reshape(2,3)"
   ]
  },
  {
   "cell_type": "code",
   "execution_count": 11,
   "id": "85e7f19b-90c1-4937-940a-d9195fd72363",
   "metadata": {},
   "outputs": [
    {
     "data": {
      "text/plain": [
       "6"
      ]
     },
     "execution_count": 11,
     "metadata": {},
     "output_type": "execute_result"
    }
   ],
   "source": [
    "array1.size"
   ]
  },
  {
   "cell_type": "code",
   "execution_count": 14,
   "id": "325ba9a1-492c-41ff-9c06-ba63842ce94d",
   "metadata": {},
   "outputs": [],
   "source": [
    "array2=np.array([[1,2],[3,8]])"
   ]
  },
  {
   "cell_type": "code",
   "execution_count": 15,
   "id": "a55b0df7-14e6-4fb2-bff2-9e62d558a7de",
   "metadata": {},
   "outputs": [
    {
     "data": {
      "text/plain": [
       "array([[1, 2],\n",
       "       [3, 8]])"
      ]
     },
     "execution_count": 15,
     "metadata": {},
     "output_type": "execute_result"
    }
   ],
   "source": [
    "array2"
   ]
  },
  {
   "cell_type": "code",
   "execution_count": 16,
   "id": "80f44a02-9456-4f4d-b4f7-5fcbe922921d",
   "metadata": {},
   "outputs": [
    {
     "data": {
      "text/plain": [
       "2"
      ]
     },
     "execution_count": 16,
     "metadata": {},
     "output_type": "execute_result"
    }
   ],
   "source": [
    "array2.ndim"
   ]
  },
  {
   "cell_type": "code",
   "execution_count": 18,
   "id": "9ac0e62a-0bc9-49c2-84d2-009ecd9a07b9",
   "metadata": {},
   "outputs": [
    {
     "data": {
      "text/plain": [
       "dtype('int32')"
      ]
     },
     "execution_count": 18,
     "metadata": {},
     "output_type": "execute_result"
    }
   ],
   "source": [
    "array2.dtype"
   ]
  },
  {
   "cell_type": "code",
   "execution_count": 44,
   "id": "032b9097-2940-40b1-82d6-9919287a7cd1",
   "metadata": {},
   "outputs": [
    {
     "data": {
      "text/plain": [
       "'int32'"
      ]
     },
     "execution_count": 44,
     "metadata": {},
     "output_type": "execute_result"
    }
   ],
   "source": [
    "array2.dtype.name"
   ]
  },
  {
   "cell_type": "code",
   "execution_count": 39,
   "id": "167f7249-9a86-40c5-8ebe-3c9e8c0e3c8f",
   "metadata": {},
   "outputs": [],
   "source": [
    "a=np.arange(15).reshape(3,5)"
   ]
  },
  {
   "cell_type": "code",
   "execution_count": 40,
   "id": "df2b4c34-83eb-4414-9027-4e7809b2eaea",
   "metadata": {},
   "outputs": [
    {
     "data": {
      "text/plain": [
       "array([[ 0,  1,  2,  3,  4],\n",
       "       [ 5,  6,  7,  8,  9],\n",
       "       [10, 11, 12, 13, 14]])"
      ]
     },
     "execution_count": 40,
     "metadata": {},
     "output_type": "execute_result"
    }
   ],
   "source": [
    "a"
   ]
  },
  {
   "cell_type": "code",
   "execution_count": 45,
   "id": "3f8546fc-7cdb-4b70-9550-a4a8e4b2beb7",
   "metadata": {},
   "outputs": [
    {
     "data": {
      "text/plain": [
       "4"
      ]
     },
     "execution_count": 45,
     "metadata": {},
     "output_type": "execute_result"
    }
   ],
   "source": [
    "a.itemsize"
   ]
  },
  {
   "cell_type": "markdown",
   "id": "eebd8f84-7531-4e3b-bf44-f68be3d56e0e",
   "metadata": {},
   "source": [
    "## indexing"
   ]
  },
  {
   "cell_type": "code",
   "execution_count": null,
   "id": "ae132637-53fd-4035-aa0b-24e7830c0f72",
   "metadata": {},
   "outputs": [],
   "source": []
  }
 ],
 "metadata": {
  "kernelspec": {
   "display_name": "Python 3 (ipykernel)",
   "language": "python",
   "name": "python3"
  },
  "language_info": {
   "codemirror_mode": {
    "name": "ipython",
    "version": 3
   },
   "file_extension": ".py",
   "mimetype": "text/x-python",
   "name": "python",
   "nbconvert_exporter": "python",
   "pygments_lexer": "ipython3",
   "version": "3.9.19"
  }
 },
 "nbformat": 4,
 "nbformat_minor": 5
}
